{
 "cells": [
  {
   "cell_type": "code",
   "execution_count": 15,
   "metadata": {},
   "outputs": [],
   "source": [
    "import numpy as np\n",
    "%matplotlib inline\n",
    "import matplotlib.pyplot as plt\n",
    "import glob\n",
    "import pyfits\n",
    "from collections import OrderedDict\n",
    "from astropy.coordinates import SkyCoord\n",
    "import healpy as hp\n",
    "from astropy import units as u\n",
    "from scipy import interpolate, linalg, optimize\n",
    "from lmfit import Parameters, fit_report, minimize, Minimizer\n",
    "plt.rcParams['figure.figsize'] = [9, 6]\n",
    "plt.rcParams['figure.dpi'] = 80\n",
    "plt.rcParams['xtick.labelsize'] = 15\n",
    "plt.rcParams['ytick.labelsize'] = 0"
   ]
  },
  {
   "cell_type": "markdown",
   "metadata": {},
   "source": [
    "Deceleration and jerk are fixed to those in Riess et al 2016, while the absolute magnitude is fixed to avoid having to use a local distance ladder, since the objective is only to study the impact of redshift and magnitude discrepancies on H0. Skip to lines 201 for the results."
   ]
  },
  {
   "cell_type": "code",
   "execution_count": 16,
   "metadata": {},
   "outputs": [],
   "source": [
    "c = 299792.458 # km/s\n",
    "Mb = -19.10\n",
    "q0 = -0.55\n",
    "j0 = 1\n"
   ]
  },
  {
   "cell_type": "code",
   "execution_count": 17,
   "metadata": {},
   "outputs": [],
   "source": [
    "def LoadData():\n",
    "    #just a file with compiled magnitudes, redshifts etc from JLA, for convenience\n",
    "    ZTOT = np.load( 'JLADirZInc.npy' )\n",
    "    #And this one at https://github.com/cmbant/CosmoMC/blob/master/data/jla_lcparams.txt\n",
    "    #Or download from http://supernovae.in2p3.fr/sdss_snls_jla/ReadMe.html\n",
    "    jlarr = np.genfromtxt('jla_lcparams.txt', skip_header=1)\n",
    "    ZHEL = jlarr.transpose()[2]\n",
    "    ZCMB = jlarr.transpose()[1]\n",
    "    #Find this file at : https://github.com/dscolnic/Pantheon/blob/master/lcparam_full_long_zhel.txt\n",
    "    panarr = np.genfromtxt('lcparam_full_long_zhel.txt', skip_header=1)\n",
    "    pannames = np.asarray([k.split()[0] for k in open('lcparam_full_long_zhel.txt').readlines()[1:]])\n",
    "    #And this one at https://github.com/cmbant/CosmoMC/blob/master/data/jla_lcparams.txt\n",
    "    #Or download from http://supernovae.in2p3.fr/sdss_snls_jla/ReadMe.html\n",
    "    jlarr = np.genfromtxt('jla_lcparams.txt', skip_header=1)\n",
    "    jlnames = np.asarray([k.split()[0] for k in open('jla_lcparams.txt').readlines()[1:]])\n",
    "    plines = open('lcparam_full_long_zhel.txt').readlines()[1:]\n",
    "    jlnamesn = np.asarray([k.replace('sn', '').replace('SDSS','') for k in jlnames])\n",
    "    #Get this from  https://zenodo.org/record/34487, or use an identity matrix. You may also use the full stat+syst covariance matrix. Makes hardly any difference\n",
    "    COVT = np.load( 'stat.npy' )    \n",
    "    zhdiffs=OrderedDict()\n",
    "    panzs = OrderedDict()\n",
    "    panzcs = OrderedDict()\n",
    "    panmbs = OrderedDict()\n",
    "    panx1s = OrderedDict()\n",
    "    pancolors = OrderedDict()\n",
    "    jlzs = OrderedDict()\n",
    "    jlras = OrderedDict()\n",
    "    jldecs = OrderedDict()\n",
    "    injla =[]\n",
    "    for i in range(len(jlnamesn)):\n",
    "    #print jlnamesn[i], pannames[pannames==jlnamesn[i]]\n",
    "        if jlnamesn[i] in pannames:\n",
    "            injla.append(True)\n",
    "            #print jlarr.transpose()[2][i], panarr.transpose()[2][pannames==jlnamesn[i]]\n",
    "            zhdiffs[jlnamesn[i]] = jlarr.transpose()[2][i] - panarr.transpose()[2][pannames==jlnamesn[i]][0]#the difference between pantheon and jla redshifts (zhel)\n",
    "            panzs[jlnamesn[i]] = panarr.transpose()[2][pannames==jlnamesn[i]][0]#pantheon zhel\n",
    "            panzcs[jlnamesn[i]] = panarr.transpose()[1][pannames==jlnamesn[i]][0]#pantheon zcmb\n",
    "            panmbs[jlnamesn[i]] = panarr.transpose()[4][pannames==jlnamesn[i]][0]\n",
    "            panx1s[jlnamesn[i]] = panarr.transpose()[6][pannames==jlnamesn[i]][0]\n",
    "            pancolors[jlnamesn[i]] = panarr.transpose()[8][pannames==jlnamesn[i]][0]\n",
    "            jlras[jlnamesn[i]] = jlarr.transpose()[18][i]\n",
    "            jldecs[jlnamesn[i]] = jlarr.transpose()[19][i]\n",
    "            jlzs[jlnamesn[i]] = jlarr.transpose()[2][i]#jla redshifts\n",
    "        else:\n",
    "            injla.append(False)\n",
    "    \n",
    "    jnzd = np.asarray(list(zhdiffs.values()))\n",
    "    return jnzd"
   ]
  },
  {
   "cell_type": "code",
   "execution_count": 18,
   "metadata": {},
   "outputs": [],
   "source": [
    "def GenerateDsetAndCov(shiftsel, verbose=False):\n",
    "    ZTOT = np.load( 'JLADirZInc.npy' )\n",
    "    jlarr = np.genfromtxt('jla_lcparams.txt', skip_header=1)\n",
    "    ZHEL = jlarr.transpose()[2]\n",
    "    ZCMB = jlarr.transpose()[1]\n",
    "    #Find this file at : https://github.com/dscolnic/Pantheon/blob/master/lcparam_full_long_zhel.txt\n",
    "    panarr = np.genfromtxt('lcparam_full_long_zhel.txt', skip_header=1)\n",
    "    pannames = np.asarray([k.split()[0] for k in open('lcparam_full_long_zhel.txt').readlines()[1:]])\n",
    "    #And this one at https://github.com/cmbant/CosmoMC/blob/master/data/jla_lcparams.txt\n",
    "    #Or download from http://supernovae.in2p3.fr/sdss_snls_jla/ReadMe.html\n",
    "    jlarr = np.genfromtxt('jla_lcparams.txt', skip_header=1)\n",
    "    jlnames = np.asarray([k.split()[0] for k in open('jla_likelihood_v6/data/jla_lcparams.txt').readlines()[1:]])\n",
    "    plines = open('lcparam_full_long_zhel.txt').readlines()[1:]\n",
    "    jlnamesn = np.asarray([k.replace('sn', '').replace('SDSS','') for k in jlnames])\n",
    "    COVT = np.load( 'stat.npy' )    \n",
    "    zhdiffs=OrderedDict()\n",
    "    panzs = OrderedDict()\n",
    "    panzcs = OrderedDict()\n",
    "    panmbs = OrderedDict()\n",
    "    panx1s = OrderedDict()\n",
    "    pancolors = OrderedDict()\n",
    "    jlzs = OrderedDict()\n",
    "    jlras = OrderedDict()\n",
    "    jldecs = OrderedDict()\n",
    "    injla =[]\n",
    "    for i in range(len(jlnamesn)):\n",
    "    #print jlnamesn[i], pannames[pannames==jlnamesn[i]]\n",
    "        if jlnamesn[i] in pannames:\n",
    "            injla.append(True)\n",
    "            #print jlarr.transpose()[2][i], panarr.transpose()[2][pannames==jlnamesn[i]]\n",
    "            zhdiffs[jlnamesn[i]] = jlarr.transpose()[2][i] - panarr.transpose()[2][pannames==jlnamesn[i]][0]#the difference between pantheon and jla redshifts (zhel)\n",
    "            panzs[jlnamesn[i]] = panarr.transpose()[2][pannames==jlnamesn[i]][0]#pantheon zhel\n",
    "            panzcs[jlnamesn[i]] = panarr.transpose()[1][pannames==jlnamesn[i]][0]#pantheon zcmb\n",
    "            panmbs[jlnamesn[i]] = panarr.transpose()[4][pannames==jlnamesn[i]][0]\n",
    "            panx1s[jlnamesn[i]] = panarr.transpose()[6][pannames==jlnamesn[i]][0]\n",
    "            pancolors[jlnamesn[i]] = panarr.transpose()[8][pannames==jlnamesn[i]][0]\n",
    "            jlras[jlnamesn[i]] = jlarr.transpose()[18][i]\n",
    "            jldecs[jlnamesn[i]] = jlarr.transpose()[19][i]\n",
    "            jlzs[jlnamesn[i]] = jlarr.transpose()[2][i]#jla redshifts\n",
    "        else:\n",
    "            injla.append(False)\n",
    "    \n",
    "    jnn = np.asarray(zhdiffs.keys())\n",
    "    jnzd = np.asarray(list(zhdiffs.values()))\n",
    "    jlzarr = np.asarray(list(jlzs.values()))\n",
    "    panzarr = np.asarray(list(panzs.values()))\n",
    "    panzcarr = np.asarray(list(panzcs.values()))\n",
    "    panmbarr = np.asarray(list(panmbs.values()))\n",
    "    panx1arr = np.asarray(list(panx1s.values()))\n",
    "    pancolorarr = np.asarray(list(pancolors.values()))\n",
    "    jlraarr = np.asarray(jlras.values())\n",
    "    jldecarr = np.asarray(jldecs.values())\n",
    "    \n",
    "    #global ZTOT, COVT\n",
    "    Z = ZTOT[injla][shiftsel]\n",
    "    if verbose:\n",
    "        print(np.shape(Z))\n",
    "        print(np.shape(panzarr[shiftsel]))\n",
    "    newpzs = np.reshape(panzarr[shiftsel], newshape=(len(Z),1))\n",
    "    newpmbs = np.reshape(panmbarr[shiftsel], newshape=(len(Z),1))\n",
    "    newpmx1s = np.reshape(panx1arr[shiftsel], newshape=(len(Z),1))\n",
    "    newpmcolors = np.reshape(pancolorarr[shiftsel], newshape=(len(Z),1))\n",
    "    newpzcs = np.reshape(panzcarr[shiftsel], newshape=(len(Z),1))\n",
    "\n",
    "    Z = np.append(Z, newpzs, axis=1)\n",
    "    Z = np.append(Z, newpmbs, axis=1)\n",
    "    Z = np.append(Z, newpmx1s, axis=1)\n",
    "    Z = np.append(Z, newpmcolors, axis=1)\n",
    "    Z = np.append(Z, newpzcs, axis=1)\n",
    "    cinjla = np.repeat(injla, 3)\n",
    "    cshiftsel = np.repeat(shiftsel, 3)\n",
    "    COVd = COVT.transpose()[cinjla].transpose()[cinjla]\n",
    "    COVd = COVd.transpose()[cshiftsel].transpose()[cshiftsel]\n",
    "    \n",
    "    return Z, COVd"
   ]
  },
  {
   "cell_type": "code",
   "execution_count": 19,
   "metadata": {},
   "outputs": [],
   "source": [
    "def MUZ(Zc, Q0, J0, h=0.7):\n",
    "    H0 = 100.*h\n",
    "    k = 5.*np.log10( c/H0 * dLPhenoF3(Zc, Q0, J0)) + 25.   \n",
    "    if np.any(np.isnan(k)) or np.any(np.isinf(k)):\n",
    "        #print 'Fuck', Q0, J0, OK\n",
    "        #print np.min(Zc[np.isnan(k)]), np.max(Zc[np.isnan(k)]), len(Zc[np.isnan(k)])\n",
    "        k[np.isnan(k)] = 63000.15861331456834\n",
    "        k[np.isinf(k)] = 630000.15661331456834\n",
    "        #print 'This is k', k\n",
    "    return k\n",
    "\n",
    "def dLPhenoF3(z, q0, j0):\n",
    "    return z*(1.+0.5*(1.-q0)*z -1./6.*(1. - q0 - 3.*q0**2. + j0)*z**2.)\n"
   ]
  },
  {
   "cell_type": "code",
   "execution_count": 20,
   "metadata": {},
   "outputs": [],
   "source": [
    "def m2loglike(pars , RV = 0):\n",
    "    if RV != 0 and RV != 1 and RV != 2:\n",
    "        raise ValueError('Inappropriate RV value')\n",
    "    else:\n",
    "        cov = COV( *[ pars[i] for i in [2,5,9,4,7] ] )\n",
    "        try:\n",
    "            chol_fac = linalg.cho_factor(cov, overwrite_a = True, lower = True ) \n",
    "        except np.linalg.linalg.LinAlgError: # If not positive definite\n",
    "            return +13993*10.**20 \n",
    "        except ValueError: # If contains infinity\n",
    "            return 13995*10.**20\n",
    "        \n",
    "        res = RESVF3( *[ pars[i] for i in [0,1, 2 ,5,8,3,6, 10] ] )\n",
    "        part_log = 3*N*np.log(2*np.pi) + np.sum( np.log( np.diag( chol_fac[0] ) ) ) * 2\n",
    "        part_exp = np.dot( res, linalg.cho_solve( chol_fac, res) )\n",
    "\n",
    "        if pars[0]<-4 or pars[0]>4. or pars[1]<-4. or pars[1]>4. or pars[4]<0 or pars[7]<0 or pars[9]<0:\n",
    "            part_exp += 100* np.sum(np.array([ _**2 for _ in pars ]))\n",
    "            # if outside valid region, give penalty\n",
    "\n",
    "        if RV==0:\n",
    "            m2loglike = part_log + part_exp\n",
    "            return m2loglike \n",
    "        elif RV==1: \n",
    "            return part_exp \n",
    "        elif RV==2:\n",
    "            return part_log"
   ]
  },
  {
   "cell_type": "code",
   "execution_count": 21,
   "metadata": {},
   "outputs": [],
   "source": [
    "def RESVF3( Q0, J0 , A , B , M0, X0, C0, h ): #Total residual, \\hat Z - Y_0*A\n",
    "    global ZINDEX\n",
    "    Y0A = np.array([ M0-A*X0+B*C0, X0, C0 ])\n",
    "    mu = MUZ(Z[:,ZINDEX], Q0, J0, h) ;\n",
    "    return np.hstack( [ (Z[i,1:4] -np.array([mu[i],0,0]) - Y0A ) for i in range(N) ] )  \n",
    "\n",
    "def RESVF3CC( Q0, J0 , A , B , M0, h ): #Total residual, \\hat Z - Y_0*A\n",
    "    global ZINDEX\n",
    "    global MAGINDEX\n",
    "    global COLORINDEX\n",
    "    global STRETCHINDEX\n",
    "    N=len(Z)\n",
    "    mu = MUZ(Z[:,ZINDEX], Q0, J0, h) ;\n",
    "    return Z[:,MAGINDEX] - M0 + A * Z[:,STRETCHINDEX] - B * Z[:,COLORINDEX] - mu"
   ]
  },
  {
   "cell_type": "markdown",
   "metadata": {},
   "source": [
    "The parameters are $q_0, j_0,  \\alpha,  x_{1,0}, \\sigma_{x1, 0}, \\beta , c_0, \\sigma_{c_0}, M_0, \\sigma_{M_0}, h$ \n"
   ]
  },
  {
   "cell_type": "code",
   "execution_count": 22,
   "metadata": {},
   "outputs": [],
   "source": [
    "fguesspars = np.array([ -2.83972523e-01,   3.72853954e-02, 1.34264132e-01,\n",
    "        3.80475068e-02,   8.68197018e-01,   3.05785939e+00,\n",
    "        -1.60647397e-02,   5.04579592e-03,  -1.90471017e+01,\n",
    "        1.17220172e-02, 0.7])"
   ]
  },
  {
   "cell_type": "code",
   "execution_count": 23,
   "metadata": {},
   "outputs": [],
   "source": [
    "bnds = ((-4.,4.),(-4.,4.),\n",
    "            (None,None),(None,None),(0,None),\n",
    "            (None,None),(None,None),(0,None),\n",
    "            (None,None),(0,None), (0, 1.5) )"
   ]
  },
  {
   "cell_type": "code",
   "execution_count": 24,
   "metadata": {},
   "outputs": [],
   "source": [
    "def COV( A , B , VM, VX, VC , RV=0): # Total covariance matrix\n",
    "    block3 = np.array( [[VM + VX*A**2 + VC*B**2,    -VX*A, VC*B],\n",
    "                                                [-VX*A , VX, 0],\n",
    "                                                [ VC*B ,  0, VC]] )\n",
    "    ATCOVlA = linalg.block_diag( *[ block3 for i in range(N) ] ) ;\n",
    "    \n",
    "    if RV==0:\n",
    "        return np.array( COVd + ATCOVlA );\n",
    "    elif RV==1:\n",
    "        return np.array( COVd );\n",
    "    elif RV==2:\n",
    "        return np.array( ATCOVlA );"
   ]
  },
  {
   "cell_type": "code",
   "execution_count": 25,
   "metadata": {},
   "outputs": [],
   "source": [
    "def m2CONSDec(pars):\n",
    "    return pars[0] + 0.55\n",
    "\n",
    "def m2CONSJerk(pars):\n",
    "    return pars[1] - 1\n",
    "\n",
    "def m2CONSMag(pars):\n",
    "    global Mb\n",
    "    return pars[8] - Mb\n",
    "\n"
   ]
  },
  {
   "cell_type": "code",
   "execution_count": 26,
   "metadata": {},
   "outputs": [],
   "source": [
    "ZINDEX = 0\n",
    "#jlzhres = optimize.minimize(m2loglike, fguesspars, method = 'SLSQP', tol=10**-12,  options={'maxiter': 24000}, constraints = ({'type':'eq', 'fun':m2CONSDec}, {'type':'eq', 'fun':m2CONSJerk}, {'type':'eq', 'fun':m2CONSMag}, {'type':'eq', 'fun':m2BetaFixer}, {'type':'eq', 'fun':m2AlphaFixer}, {'type':'eq', 'fun':m2X10Fixer},  {'type':'eq', 'fun':m2Cfixer}), bounds=bnds)\n",
    "#print(jlzhres)"
   ]
  },
  {
   "cell_type": "markdown",
   "metadata": {},
   "source": [
    "The parameters are $q_0, j_0,  \\alpha,  x_{1,0}, \\sigma_{x1, 0}, \\beta , c_0, \\sigma_{c_0}, M_0, \\sigma_{M_0}, h$ \n"
   ]
  },
  {
   "cell_type": "markdown",
   "metadata": {},
   "source": [
    "Different types of likelihoods, such as the typical 'constrained chi square' method or the likelihoods used in Nielsen et al 2015. Since the primary shifts originate from the mysteriously changing redshifts, verifying that the relative shifts are independent of the likelihood used is left as an exercise to the reader. "
   ]
  },
  {
   "cell_type": "code",
   "execution_count": 27,
   "metadata": {},
   "outputs": [],
   "source": [
    "def m2loglike(pars , RV = 0):\n",
    "    if RV != 0 and RV != 1 and RV != 2:\n",
    "        raise ValueError('Inappropriate RV value')\n",
    "    else:\n",
    "        cov = COV( *[ pars[i] for i in [2,5,9,4,7] ] )\n",
    "        try:\n",
    "            chol_fac = linalg.cho_factor(cov, overwrite_a = True, lower = True ) \n",
    "        except np.linalg.linalg.LinAlgError: # If not positive definite\n",
    "            return +13993*10.**20 \n",
    "        except ValueError: # If contains infinity\n",
    "            return 13995*10.**20\n",
    "        \n",
    "        res = RESVF3( *[ pars[i] for i in [0,1, 2 ,5,8,3,6, 10] ] )\n",
    "        part_log = 3*N*np.log(2*np.pi) + np.sum( np.log( np.diag( chol_fac[0] ) ) ) * 2\n",
    "        part_exp = np.dot( res, linalg.cho_solve( chol_fac, res) )\n",
    "\n",
    "        if pars[0]<-4 or pars[0]>4. or pars[1]<-4. or pars[1]>4. or pars[4]<0 or pars[7]<0 or pars[9]<0:\n",
    "            part_exp += 100* np.sum(np.array([ _**2 for _ in pars ]))\n",
    "            # if outside valid region, give penalty\n",
    "\n",
    "        if RV==0:\n",
    "            m2loglike = part_log + part_exp\n",
    "            return m2loglike \n",
    "        elif RV==1: \n",
    "            return part_exp \n",
    "        elif RV==2:\n",
    "            return part_log\n",
    "\n",
    "\n",
    "def COV_C( A , B , VM ):\n",
    "    N=len(Z)\n",
    "    block1 = np.array( [1 , A , -B] ) ;\n",
    "    AJLA = linalg.block_diag( *[ block1 for i in range(N) ] );\n",
    "    return np.dot( AJLA, np.dot( COVd, AJLA.transpose() ) ) + np.eye(N) * VM;\n",
    "\n",
    "# pars = [ qm, J, a, b, m0, h] , VM seperate\n",
    "\n",
    "def chi2_C( pars, VM=0.13**2 ):\n",
    "    cov = COV_C( pars[2], pars[3] , VM )\n",
    "    chol_fac = linalg.cho_factor( cov, overwrite_a = True, lower = True )\n",
    "    \n",
    "    res = RESVF3CC( *pars )\n",
    "    \n",
    "    part_exp = np.dot( res , linalg.cho_solve( chol_fac, res) )\n",
    "    return part_exp\n",
    "\n",
    "def chi2_CVM( pars):\n",
    "    cov = COV_C( pars[2], pars[3] , pars[6] )\n",
    "    chol_fac = linalg.cho_factor( cov, overwrite_a = True, lower = True )\n",
    "    N=len(Z)\n",
    "    \n",
    "    res = RESVF3CC( *[ pars[i] for i in [0,1, 2 ,3,4,5 ] ]  )\n",
    "    \n",
    "    part_log = 3*N*np.log(2*np.pi) + np.sum( np.log( np.diag( chol_fac[0] ) ) ) * 2\n",
    "    \n",
    "    part_exp = np.dot( res , linalg.cho_solve( chol_fac, res) )\n",
    "    return part_exp + part_log\n",
    "\n",
    "def lmfitccVM(lmpars):\n",
    "    sppars = list(lmpars.valuesdict().values())\n",
    "    v = chi2_CVM(sppars)\n",
    "    if np.isnan(v):\n",
    "        return -13993*10.**20\n",
    "    return -1.*v\n"
   ]
  },
  {
   "cell_type": "code",
   "execution_count": 28,
   "metadata": {},
   "outputs": [],
   "source": [
    "bndsCC = ((-4.,4.),(-4.,4.), (None,None),(None,None), (None,None), (0, 1.5))\n",
    "bndsCCVM = ((-4.,4.),(-4.,4.), (None,None),(None,None), (None,None), (0, 1.5), (0, None))"
   ]
  },
  {
   "cell_type": "code",
   "execution_count": 29,
   "metadata": {},
   "outputs": [],
   "source": [
    "def chi2CONSMag(pars):\n",
    "    global Mb\n",
    "    return pars[4] - Mb"
   ]
  },
  {
   "cell_type": "markdown",
   "metadata": {},
   "source": [
    "The parameters are $q_0, j_0,  \\alpha,  \\beta ,  M_0, h ,\\sigma_{int}$ "
   ]
  },
  {
   "cell_type": "code",
   "execution_count": 30,
   "metadata": {},
   "outputs": [],
   "source": [
    "fguessparsCCVM = np.array([ -0.55,   1, 1.53257992e-01,\n",
    "        3.40217404e+00,   -1.90471017e+01,   0.7, 0.13])"
   ]
  },
  {
   "cell_type": "code",
   "execution_count": 31,
   "metadata": {},
   "outputs": [],
   "source": [
    "ZINDEX = 9\n",
    "MAGINDEX = 1\n",
    "STRETCHINDEX = 2\n",
    "COLORINDEX = 3\n",
    "#jlzresCC = optimize.minimize(chi2_C, fguessparsCC, method = 'SLSQP', tol=10**-12,  options={'maxiter': 24000}, constraints = (  {'type':'eq', 'fun':chi2CONSMag} , {'type':'eq', 'fun':m2CONSJerk} ), bounds=bndsCC)\n",
    "#print(jlzresCC)"
   ]
  },
  {
   "cell_type": "code",
   "execution_count": 32,
   "metadata": {},
   "outputs": [],
   "source": [
    "#ZINDEX = 10\n",
    "#panzresCC = optimize.minimize(chi2_C, fguessparsCC, method = 'SLSQP', tol=10**-12,  options={'maxiter': 24000}, constraints = ({'type':'eq', 'fun':chi2CONSMag}  , {'type':'eq', 'fun':m2CONSJerk} ), bounds=bndsCC)\n",
    "#print(panzresCC)"
   ]
  },
  {
   "cell_type": "code",
   "execution_count": 34,
   "metadata": {},
   "outputs": [
    {
     "name": "stderr",
     "output_type": "stream",
     "text": [
      "/groups/icecube/mrameez/python35/python/lib/python3.5/site-packages/ipykernel_launcher.py:3: RuntimeWarning: divide by zero encountered in double_scalars\n",
      "  This is separate from the ipykernel package so we can avoid doing imports until\n"
     ]
    },
    {
     "name": "stdout",
     "output_type": "stream",
     "text": [
      "     fun: 115.37401261309245\n",
      "     jac: array([-1.39668865e+01, -1.10360527e+00,  3.81469727e-06, -8.58306885e-06,\n",
      "        1.04904175e-04,  1.48773193e-04, -2.76565552e-05])\n",
      " message: 'Optimization terminated successfully.'\n",
      "    nfev: 475\n",
      "     nit: 46\n",
      "    njev: 46\n",
      "  status: 0\n",
      " success: True\n",
      "       x: array([-5.50000000e-01,  1.00000000e+00,  1.42202119e-01,  2.61239634e+00,\n",
      "       -1.91000000e+01,  6.86140252e-01,  1.16705380e-02])\n"
     ]
    }
   ],
   "source": [
    "ZINDEX = 9\n",
    "MAGINDEX = 1\n",
    "STRETCHINDEX = 2\n",
    "COLORINDEX = 3\n",
    "jlzresCCVM = optimize.minimize(chi2_CVM, fguessparsCCVM, method = 'SLSQP', tol=10**-14,  options={'maxiter': 24000}, constraints = ({'type':'eq', 'fun':m2CONSDec},  {'type':'eq', 'fun':m2CONSJerk}, {'type':'eq', 'fun':chi2CONSMag}), bounds=bndsCCVM)\n",
    "print(jlzresCCVM)"
   ]
  },
  {
   "cell_type": "code",
   "execution_count": 35,
   "metadata": {},
   "outputs": [
    {
     "data": {
      "text/plain": [
       "45"
      ]
     },
     "execution_count": 35,
     "metadata": {},
     "output_type": "execute_result"
    }
   ],
   "source": [
    "len(Z[:,ZINDEX])"
   ]
  },
  {
   "cell_type": "code",
   "execution_count": 38,
   "metadata": {},
   "outputs": [
    {
     "data": {
      "text/plain": [
       "array([0., 0., 0., 0., 0., 0., 0., 0., 0., 0., 0., 0., 0., 0., 0., 0., 0.,\n",
       "       0., 0., 0., 0., 0., 0., 0., 0., 0., 0., 0., 0., 0., 0., 0., 0., 0.,\n",
       "       0., 0., 0., 0., 0., 0., 0., 0., 0., 0., 0.])"
      ]
     },
     "execution_count": 38,
     "metadata": {},
     "output_type": "execute_result"
    }
   ],
   "source": [
    "Z[:,13]"
   ]
  },
  {
   "cell_type": "code",
   "execution_count": 39,
   "metadata": {},
   "outputs": [
    {
     "data": {
      "text/plain": [
       "array([21.099, 20.351, 19.579, 22.3  , 20.85 , 20.856, 19.838, 21.35 ,\n",
       "       21.246, 22.21 , 19.709, 20.505, 21.86 , 21.587, 20.359, 22.06 ,\n",
       "       21.006, 20.556, 20.89 , 20.775, 21.533, 20.257, 19.97 , 19.773,\n",
       "       20.404, 22.136, 20.557, 21.303, 21.478, 21.278, 20.091, 22.008,\n",
       "       22.096, 20.425, 21.207, 21.439, 21.832, 21.508, 19.196, 21.379,\n",
       "       21.246, 20.907, 20.554, 21.111, 16.85 ])"
      ]
     },
     "execution_count": 39,
     "metadata": {},
     "output_type": "execute_result"
    }
   ],
   "source": [
    "Z[:,1]"
   ]
  },
  {
   "cell_type": "code",
   "execution_count": 40,
   "metadata": {},
   "outputs": [
    {
     "name": "stdout",
     "output_type": "stream",
     "text": [
      "45\n"
     ]
    }
   ],
   "source": [
    "jnzd = LoadData()\n",
    "shiftsel = jnzd< -0.0025\n",
    "Z, COVd = GenerateDsetAndCov(shiftsel)\n",
    "print(len(Z))"
   ]
  },
  {
   "cell_type": "code",
   "execution_count": 13,
   "metadata": {},
   "outputs": [
    {
     "name": "stdout",
     "output_type": "stream",
     "text": [
      "13\n"
     ]
    }
   ],
   "source": [
    "jnzd = LoadData()\n",
    "shiftsel = jnzd>0.0025\n",
    "Z, COVd = GenerateDsetAndCov(shiftsel)\n",
    "print(len(Z))"
   ]
  },
  {
   "cell_type": "code",
   "execution_count": 42,
   "metadata": {},
   "outputs": [],
   "source": [
    "lmp = Parameters()\n",
    "pnames = ['Q0', 'J0', 'alpha', 'beta', 'M0', 'h' ,'sigint']\n",
    "fguessparsCCVM = np.array([ -0.55,   1, 1.53257992e-01, 3.40217404e+00,   -1.91e+01,   0.7, 0.13])\n",
    "tovary = [False, False, True, True, False, True, True]\n",
    "bndsCCVM = ((-4.,4.),(-4.,4.), (None,None),(None,None), (None,None), (0, 1.5), (0, None))\n",
    "inguess = fguessparsCCVM\n",
    "for val, name, bnd, wtv in zip(inguess, pnames, bndsCCVM, tovary):\n",
    "    lmp.add(name, value=val, min=bnd[0], max=bnd[1], vary=wtv)"
   ]
  },
  {
   "cell_type": "code",
   "execution_count": 43,
   "metadata": {},
   "outputs": [
    {
     "name": "stdout",
     "output_type": "stream",
     "text": [
      "     fun: 115.37401261309275\n",
      "     jac: array([-1.39669161e+01, -1.10357761e+00, -1.04904175e-05,  2.38418579e-05,\n",
      "        1.26838684e-04,  3.05175781e-05,  5.72204590e-06])\n",
      " message: 'Optimization terminated successfully.'\n",
      "    nfev: 315\n",
      "     nit: 32\n",
      "    njev: 31\n",
      "  status: 0\n",
      " success: True\n",
      "       x: array([-5.50000000e-01,  1.00000000e+00,  1.42202118e-01,  2.61239614e+00,\n",
      "       -1.91000000e+01,  6.86140252e-01,  1.16705390e-02])\n"
     ]
    }
   ],
   "source": [
    "ZINDEX = 9\n",
    "MAGINDEX = 1\n",
    "STRETCHINDEX = 2\n",
    "COLORINDEX = 3\n",
    "jlzresCCVM = optimize.minimize(chi2_CVM, fguessparsCCVM, method = 'SLSQP', tol=10**-14,  options={'maxiter': 24000}, constraints = ({'type':'eq', 'fun':m2CONSDec},  {'type':'eq', 'fun':m2CONSJerk}, {'type':'eq', 'fun':chi2CONSMag}), bounds=bndsCCVM)\n",
    "print(jlzresCCVM)"
   ]
  },
  {
   "cell_type": "code",
   "execution_count": 44,
   "metadata": {},
   "outputs": [],
   "source": [
    "minner = Minimizer(lmfitccVM, lmp)\n",
    "resultz9m1sp0025 = minner.emcee(steps = 1500, nwalkers=100, burn=1000)"
   ]
  },
  {
   "cell_type": "code",
   "execution_count": 45,
   "metadata": {},
   "outputs": [
    {
     "name": "stderr",
     "output_type": "stream",
     "text": [
      "/groups/icecube/mrameez/python35/python/lib/python3.5/site-packages/ipykernel_launcher.py:3: RuntimeWarning: divide by zero encountered in double_scalars\n",
      "  This is separate from the ipykernel package so we can avoid doing imports until\n"
     ]
    },
    {
     "name": "stdout",
     "output_type": "stream",
     "text": [
      "     fun: 110.6490817484835\n",
      "     jac: array([-7.79404736e+00, -5.06704330e-01, -1.14440918e-05,  7.62939453e-06,\n",
      "        1.48773193e-04,  2.86102295e-05,  2.02178955e-04])\n",
      " message: 'Optimization terminated successfully.'\n",
      "    nfev: 305\n",
      "     nit: 30\n",
      "    njev: 29\n",
      "  status: 0\n",
      " success: True\n",
      "       x: array([-5.50000000e-01,  1.00000000e+00,  1.40218041e-01,  2.50142845e+00,\n",
      "       -1.91000000e+01,  7.14187554e-01,  9.80169951e-03])\n"
     ]
    }
   ],
   "source": [
    "ZINDEX = 10\n",
    "MAGINDEX = 1\n",
    "STRETCHINDEX = 2\n",
    "COLORINDEX = 3\n",
    "jlzresCCVM10m1sp0025 = optimize.minimize(chi2_CVM, fguessparsCCVM, method = 'SLSQP', tol=10**-14,  options={'maxiter': 24000}, constraints = ({'type':'eq', 'fun':m2CONSDec},  {'type':'eq', 'fun':m2CONSJerk}, {'type':'eq', 'fun':chi2CONSMag}), bounds=bndsCCVM)\n",
    "print(jlzresCCVM10m1sp0025)"
   ]
  },
  {
   "cell_type": "code",
   "execution_count": 46,
   "metadata": {},
   "outputs": [],
   "source": [
    "minner = Minimizer(lmfitccVM, lmp)\n",
    "resultz10m1sp0025 = minner.emcee(steps = 1500, nwalkers=100, burn=1000)"
   ]
  },
  {
   "cell_type": "code",
   "execution_count": 47,
   "metadata": {},
   "outputs": [
    {
     "name": "stdout",
     "output_type": "stream",
     "text": [
      "     fun: 103.94690750985563\n",
      "     jac: array([8.78104305e+00, 1.48505974e+00, 3.81469727e-06, 7.62939453e-06,\n",
      "       1.52587891e-04, 9.53674316e-05, 4.38690186e-05])\n",
      " message: 'Optimization terminated successfully.'\n",
      "    nfev: 367\n",
      "     nit: 35\n",
      "    njev: 35\n",
      "  status: 0\n",
      " success: True\n",
      "       x: array([-5.50000000e-01,  1.00000000e+00,  8.67063625e-02, -4.97013901e-01,\n",
      "       -1.91000000e+01,  7.93032183e-01,  7.88625564e-03])\n"
     ]
    }
   ],
   "source": [
    "ZINDEX = 10\n",
    "MAGINDEX = 11\n",
    "STRETCHINDEX = 12\n",
    "COLORINDEX = 13\n",
    "jlzresCCVM10m11sp0025 = optimize.minimize(chi2_CVM, fguessparsCCVM, method = 'SLSQP', tol=10**-14,  options={'maxiter': 24000}, constraints = ({'type':'eq', 'fun':m2CONSDec},  {'type':'eq', 'fun':m2CONSJerk}, {'type':'eq', 'fun':chi2CONSMag}), bounds=bndsCCVM)\n",
    "print(jlzresCCVM10m11sp0025)"
   ]
  },
  {
   "cell_type": "code",
   "execution_count": 48,
   "metadata": {},
   "outputs": [],
   "source": [
    "minner = Minimizer(lmfitccVM, lmp)\n",
    "resultz10m11sp0025 = minner.emcee(steps = 1500, nwalkers=100, burn=1000)"
   ]
  },
  {
   "cell_type": "code",
   "execution_count": 49,
   "metadata": {},
   "outputs": [
    {
     "name": "stderr",
     "output_type": "stream",
     "text": [
      "/groups/icecube/mrameez/python35/python/lib/python3.5/site-packages/ipykernel_launcher.py:1: DeprecationWarning: object of type <class 'float'> cannot be safely interpreted as an integer.\n",
      "  \"\"\"Entry point for launching an IPython kernel.\n"
     ]
    },
    {
     "data": {
      "text/plain": [
       "array([101.        , 100.45238095,  99.9047619 ,  99.35714286,\n",
       "        98.80952381,  98.26190476,  97.71428571,  97.16666667,\n",
       "        96.61904762,  96.07142857,  95.52380952,  94.97619048,\n",
       "        94.42857143,  93.88095238,  93.33333333,  92.78571429,\n",
       "        92.23809524,  91.69047619,  91.14285714,  90.5952381 ,\n",
       "        90.04761905,  89.5       ,  88.95238095,  88.4047619 ,\n",
       "        87.85714286,  87.30952381,  86.76190476,  86.21428571,\n",
       "        85.66666667,  85.11904762,  84.57142857,  84.02380952,\n",
       "        83.47619048,  82.92857143,  82.38095238,  81.83333333,\n",
       "        81.28571429,  80.73809524,  80.19047619,  79.64285714,\n",
       "        79.0952381 ,  78.54761905,  78.        ,  77.45238095,\n",
       "        76.9047619 ,  76.35714286,  75.80952381,  75.26190476,\n",
       "        74.71428571,  74.16666667,  73.61904762,  73.07142857,\n",
       "        72.52380952,  71.97619048,  71.42857143,  70.88095238,\n",
       "        70.33333333,  69.78571429,  69.23809524,  68.69047619,\n",
       "        68.14285714,  67.5952381 ,  67.04761905,  66.5       ,\n",
       "        65.95238095,  65.4047619 ,  64.85714286,  64.30952381,\n",
       "        63.76190476,  63.21428571,  62.66666667,  62.11904762,\n",
       "        61.57142857,  61.02380952,  60.47619048,  59.92857143,\n",
       "        59.38095238,  58.83333333,  58.28571429,  57.73809524,\n",
       "        57.19047619,  56.64285714,  56.0952381 ,  55.54761905,\n",
       "        55.        ])"
      ]
     },
     "execution_count": 49,
     "metadata": {},
     "output_type": "execute_result"
    }
   ],
   "source": [
    "np.linspace(101, 55., 85.)"
   ]
  },
  {
   "cell_type": "code",
   "execution_count": 124,
   "metadata": {},
   "outputs": [
    {
     "data": {
      "text/plain": [
       "(1, 40000)"
      ]
     },
     "execution_count": 124,
     "metadata": {},
     "output_type": "execute_result"
    },
    {
     "data": {
      "image/png": "[encoded data removed]",
      "text/plain": [
       "<Figure size 720x480 with 1 Axes>"
      ]
     },
     "metadata": {
      "needs_background": "light"
     },
     "output_type": "display_data"
    }
   ],
   "source": [
    "k = plt.hist(resultz9m1sp0025.flatchain['h']*100., bins=np.linspace(59., 85., 91), color='blue', alpha=0.3, label = r'$\\rm{ z_{JLA},\\  m_{JLA} }$')\n",
    "plt.hist(resultz10m1sp0025.flatchain['h']*100., bins=k[1], color='red', alpha=0.3, label = r'$\\rm{ z_{Pantheon},\\  m_{JLA} }$')\n",
    "plt.hist(resultz10m11sp0025.flatchain['h']*100., bins=k[1], color='green', alpha=0.3, label = r'$\\rm{ z_{Pantheon},\\ m_{Pantheon} }$')\n",
    "plt.fill_betweenx(y, x1, x2, color='grey', alpha=0.3)\n",
    "plt.text(67.2, 1000, 'Planck 2018', rotation=90, fontsize=20)\n",
    "plt.xlabel(r'$ {\\rm H_0 }\\ [{\\rm km\\ s}^{-1} {\\rm Mpc}^{-1}]$', fontsize=20)\n",
    "plt.legend(loc='best', fontsize=14, ncol=3)\n",
    "plt.title(r'$\\rm{ z_{diff} > 0.0025 }$', fontsize=20)\n",
    "plt.yscale('log')\n",
    "plt.ylim(1, 40000)\n"
   ]
  },
  {
   "cell_type": "code",
   "execution_count": 77,
   "metadata": {},
   "outputs": [
    {
     "name": "stdout",
     "output_type": "stream",
     "text": [
      "78\n"
     ]
    }
   ],
   "source": [
    "shiftsel = jnzd<-0.0005\n",
    "Z, COVd = GenerateDsetAndCov(shiftsel)\n",
    "print(len(Z))"
   ]
  },
  {
   "cell_type": "code",
   "execution_count": 78,
   "metadata": {},
   "outputs": [
    {
     "name": "stdout",
     "output_type": "stream",
     "text": [
      "     fun: 207.30172777564198\n",
      "     jac: array([8.92670708e+01, 2.27181129e+01, 5.72204590e-05, 2.47955322e-05,\n",
      "       1.81198120e-04, 1.73568726e-04, 6.67572021e-05])\n",
      " message: 'Optimization terminated successfully.'\n",
      "    nfev: 237\n",
      "     nit: 22\n",
      "    njev: 22\n",
      "  status: 0\n",
      " success: True\n",
      "       x: array([-5.50000000e-01,  1.00000000e+00,  1.23391245e-01,  2.71555213e+00,\n",
      "       -1.91000000e+01,  6.86376905e-01,  1.04527857e-02])\n"
     ]
    }
   ],
   "source": [
    "ZINDEX = 9\n",
    "MAGINDEX = 1\n",
    "STRETCHINDEX = 2\n",
    "COLORINDEX = 3\n",
    "jlzresCCVM = optimize.minimize(chi2_CVM, fguessparsCCVM, method = 'SLSQP', tol=10**-14,  options={'maxiter': 24000}, constraints = ({'type':'eq', 'fun':m2CONSDec},  {'type':'eq', 'fun':m2CONSJerk}, {'type':'eq', 'fun':chi2CONSMag}), bounds=bndsCCVM)\n",
    "print(jlzresCCVM)"
   ]
  },
  {
   "cell_type": "code",
   "execution_count": 79,
   "metadata": {},
   "outputs": [],
   "source": [
    "minner = Minimizer(lmfitccVM, lmp)\n",
    "resultz9m1sp0005 = minner.emcee(steps = 1500, nwalkers=100, burn=1000)"
   ]
  },
  {
   "cell_type": "code",
   "execution_count": 80,
   "metadata": {},
   "outputs": [
    {
     "name": "stdout",
     "output_type": "stream",
     "text": [
      "     fun: 207.0538320480816\n",
      "     jac: array([1.52728264e+02, 3.48138027e+01, 4.76837158e-05, 5.72204590e-06,\n",
      "       2.46047974e-04, 3.81469727e-06, 1.14440918e-05])\n",
      " message: 'Optimization terminated successfully.'\n",
      "    nfev: 223\n",
      "     nit: 21\n",
      "    njev: 21\n",
      "  status: 0\n",
      " success: True\n",
      "       x: array([-5.50000000e-01,  1.00000000e+00,  1.26350715e-01,  2.68576541e+00,\n",
      "       -1.91000000e+01,  7.07532221e-01,  9.27280619e-03])\n"
     ]
    }
   ],
   "source": [
    "ZINDEX = 10\n",
    "MAGINDEX = 1\n",
    "STRETCHINDEX = 2\n",
    "COLORINDEX = 3\n",
    "jlzresCCVM10m1sp0005 = optimize.minimize(chi2_CVM, fguessparsCCVM, method = 'SLSQP', tol=10**-14,  options={'maxiter': 24000}, constraints = ({'type':'eq', 'fun':m2CONSDec},  {'type':'eq', 'fun':m2CONSJerk}, {'type':'eq', 'fun':chi2CONSMag}), bounds=bndsCCVM)\n",
    "print(jlzresCCVM10m1sp0005)"
   ]
  },
  {
   "cell_type": "code",
   "execution_count": 81,
   "metadata": {},
   "outputs": [],
   "source": [
    "minner = Minimizer(lmfitccVM, lmp)\n",
    "resultz10m1sp0005 = minner.emcee(steps = 1500, nwalkers=100, burn=1000)"
   ]
  },
  {
   "cell_type": "code",
   "execution_count": 82,
   "metadata": {},
   "outputs": [
    {
     "name": "stdout",
     "output_type": "stream",
     "text": [
      "     fun: 196.49288266422852\n",
      "     jac: array([1.76768116e+02, 3.59124413e+01, 1.33514404e-05, 5.72204590e-06,\n",
      "       1.69754028e-04, 2.02178955e-04, 1.02996826e-04])\n",
      " message: 'Optimization terminated successfully.'\n",
      "    nfev: 232\n",
      "     nit: 21\n",
      "    njev: 21\n",
      "  status: 0\n",
      " success: True\n",
      "       x: array([-5.50000000e-01,  1.00000000e+00, -2.32192230e-01, -2.18427278e+00,\n",
      "       -1.91000000e+01,  7.92623666e-01,  3.10468940e-03])\n"
     ]
    }
   ],
   "source": [
    "ZINDEX = 10\n",
    "MAGINDEX = 11\n",
    "STRETCHINDEX = 12\n",
    "COLORINDEX = 13\n",
    "jlzresCCVM10m11sp0005 = optimize.minimize(chi2_CVM, fguessparsCCVM, method = 'SLSQP', tol=10**-14,  options={'maxiter': 24000}, constraints = ({'type':'eq', 'fun':m2CONSDec},  {'type':'eq', 'fun':m2CONSJerk}, {'type':'eq', 'fun':chi2CONSMag}), bounds=bndsCCVM)\n",
    "print(jlzresCCVM10m11sp0005)"
   ]
  },
  {
   "cell_type": "code",
   "execution_count": 83,
   "metadata": {},
   "outputs": [],
   "source": [
    "minner = Minimizer(lmfitccVM, lmp)\n",
    "resultz10m11sp0005 = minner.emcee(steps = 1500, nwalkers=100, burn=1000)"
   ]
  },
  {
   "cell_type": "code",
   "execution_count": 116,
   "metadata": {},
   "outputs": [
    {
     "name": "stderr",
     "output_type": "stream",
     "text": [
      "/groups/icecube/mrameez/python35/python/lib/python3.5/site-packages/ipykernel_launcher.py:1: DeprecationWarning: object of type <class 'float'> cannot be safely interpreted as an integer.\n",
      "  \"\"\"Entry point for launching an IPython kernel.\n"
     ]
    }
   ],
   "source": [
    "y = np.linspace(0.001, 33000, 500.)\n",
    "x1 = y*0 + 66.9\n",
    "x2 = y*0 + 67.9"
   ]
  },
  {
   "cell_type": "code",
   "execution_count": 110,
   "metadata": {},
   "outputs": [
    {
     "name": "stdout",
     "output_type": "stream",
     "text": [
      "[1.02329299e+000 2.61793695e+020 6.69758706e+040 1.71347413e+061\n",
      " 4.38365871e+081 1.12149132e+102 2.86916221e+122 7.34030804e+142\n",
      " 1.87790436e+163 4.80432804e+183 1.22911307e+204 3.14449581e+224\n",
      " 8.04470650e+244 2.05811381e+265 5.26536608e+285 1.34706253e+306\n",
      "             inf             inf             inf             inf\n",
      "             inf             inf             inf             inf\n",
      "             inf             inf             inf             inf\n",
      "             inf             inf             inf             inf\n",
      "             inf             inf             inf             inf\n",
      "             inf             inf             inf             inf\n",
      "             inf             inf             inf             inf\n",
      "             inf             inf             inf             inf\n",
      "             inf             inf]\n"
     ]
    }
   ],
   "source": [
    "print(y)"
   ]
  },
  {
   "cell_type": "code",
   "execution_count": 121,
   "metadata": {},
   "outputs": [
    {
     "data": {
      "text/plain": [
       "(1, 33000)"
      ]
     },
     "execution_count": 121,
     "metadata": {},
     "output_type": "execute_result"
    },
    {
     "data": {
      "image/png": "[encoded data removed]",
      "text/plain": [
       "<Figure size 720x480 with 1 Axes>"
      ]
     },
     "metadata": {
      "needs_background": "light"
     },
     "output_type": "display_data"
    }
   ],
   "source": [
    "b = np.linspace(65, 85, 201)\n",
    "k = plt.hist(resultz10m11sp0005.flatchain['h']*100., bins=b, color='green', alpha=0.3, label = r'$\\rm{ z_{Pantheon},\\ m_{Pantheon} }$')\n",
    "plt.hist(resultz9m1sp0005.flatchain['h']*100., bins=k[1], color='blue', alpha=0.3, label = r'$\\rm{ z_{JLA},\\  m_{JLA} }$')\n",
    "plt.hist(resultz10m1sp0005.flatchain['h']*100., bins=k[1], color='red', alpha=0.3, label = r'$\\rm{ z_{Pantheon},\\  m_{JLA} }$')\n",
    "plt.fill_betweenx(y, x1, x2, color='grey', alpha=0.3)\n",
    "plt.text(67.2, 1000, 'Planck 2018', rotation=90, fontsize=20)\n",
    "#plt.hist(resultz10m11sp0005.flatchain['h']*100., bins=k[1], color='green', alpha=0.3, label = r'$\\rm{ z_{Pantheon},\\ M_{Pantheon} }$')\n",
    "plt.xlabel(r'$ {\\rm H_0 }\\ [{\\rm km\\ s}^{-1} {\\rm Mpc}^{-1}]$', fontsize=20)\n",
    "plt.legend(loc='best', fontsize=14, ncol=3)\n",
    "plt.title(r'$\\rm{ z_{diff} > 0.0005 }$', fontsize=20)\n",
    "plt.yscale('log')\n",
    "plt.ylim(1, 33000)"
   ]
  },
  {
   "cell_type": "code",
   "execution_count": 67,
   "metadata": {},
   "outputs": [
    {
     "name": "stdout",
     "output_type": "stream",
     "text": [
      "58\n"
     ]
    }
   ],
   "source": [
    "shiftsel = np.absolute(jnzd)>0.0025\n",
    "Z, COVd = GenerateDsetAndCov(shiftsel)\n",
    "print(len(Z))"
   ]
  },
  {
   "cell_type": "code",
   "execution_count": null,
   "metadata": {},
   "outputs": [],
   "source": []
  },
  {
   "cell_type": "code",
   "execution_count": null,
   "metadata": {},
   "outputs": [],
   "source": []
  },
  {
   "cell_type": "code",
   "execution_count": 68,
   "metadata": {},
   "outputs": [],
   "source": [
    "ZINDEX = 9\n",
    "MAGINDEX = 1\n",
    "STRETCHINDEX = 2\n",
    "COLORINDEX = 3\n",
    "minner = Minimizer(lmfitccVM, lmp)\n",
    "resultz9m1spabs0025 = minner.emcee(steps = 1500, nwalkers=100, burn=1000)"
   ]
  },
  {
   "cell_type": "code",
   "execution_count": 69,
   "metadata": {},
   "outputs": [],
   "source": [
    "ZINDEX = 10\n",
    "MAGINDEX = 1\n",
    "STRETCHINDEX = 2\n",
    "COLORINDEX = 3\n",
    "minner = Minimizer(lmfitccVM, lmp)\n",
    "resultz10m1spabs0025 = minner.emcee(steps = 1500, nwalkers=100, burn=1000)"
   ]
  },
  {
   "cell_type": "code",
   "execution_count": 70,
   "metadata": {},
   "outputs": [],
   "source": [
    "ZINDEX = 10\n",
    "MAGINDEX = 11\n",
    "STRETCHINDEX = 12\n",
    "COLORINDEX = 13\n",
    "minner = Minimizer(lmfitccVM, lmp)\n",
    "resultz10m11spabs0025 = minner.emcee(steps = 1500, nwalkers=100, burn=1000)"
   ]
  },
  {
   "cell_type": "code",
   "execution_count": 122,
   "metadata": {},
   "outputs": [
    {
     "data": {
      "text/plain": [
       "(1, 33000)"
      ]
     },
     "execution_count": 122,
     "metadata": {},
     "output_type": "execute_result"
    },
    {
     "data": {
      "image/png": "[encoded data removed]",
      "text/plain": [
       "<Figure size 720x480 with 1 Axes>"
      ]
     },
     "metadata": {
      "needs_background": "light"
     },
     "output_type": "display_data"
    }
   ],
   "source": [
    "bn = np.linspace(65., 85., 301)\n",
    "\n",
    "k = plt.hist(resultz9m1spabs0025.flatchain['h']*100., bins=bn, color='blue', alpha=0.3, label = r'$\\rm{ z_{JLA},\\  m_{JLA} }$')\n",
    "plt.hist(resultz10m1spabs0025.flatchain['h']*100., bins=k[1], color='red', alpha=0.3, label = r'$\\rm{ z_{Pantheon},\\  m_{JLA} }$')\n",
    "plt.hist(resultz10m11spabs0025.flatchain['h']*100., bins=k[1], color='green', alpha=0.3, label = r'$\\rm{ z_{Pantheon},\\ m_{Pantheon} }$')\n",
    "plt.fill_betweenx(y, x1, x2, color='grey', alpha=0.3)\n",
    "plt.text(67.2, 1000, 'Planck 2018', rotation=90, fontsize=20)\n",
    "plt.xlabel(r'$ {\\rm H_0 }\\ [{\\rm km\\ s}^{-1} {\\rm Mpc}^{-1}]$', fontsize=20)\n",
    "plt.legend(loc='best', fontsize=14, ncol=3)\n",
    "plt.title(r'$\\rm{ |z_{diff}| > 0.0025 }$', fontsize=20)\n",
    "plt.yscale('log')\n",
    "plt.ylim(1, 33000)"
   ]
  },
  {
   "cell_type": "code",
   "execution_count": 86,
   "metadata": {},
   "outputs": [
    {
     "name": "stdout",
     "output_type": "stream",
     "text": [
      "69.43322250107076\n"
     ]
    }
   ],
   "source": [
    "print(np.median(resultz9m1spabs0025.flatchain['h']*100.))"
   ]
  },
  {
   "cell_type": "code",
   "execution_count": 88,
   "metadata": {},
   "outputs": [
    {
     "name": "stdout",
     "output_type": "stream",
     "text": [
      "70.63615954095107\n"
     ]
    }
   ],
   "source": [
    "print(np.median(resultz10m1spabs0025.flatchain['h']*100.))"
   ]
  },
  {
   "cell_type": "code",
   "execution_count": 94,
   "metadata": {},
   "outputs": [
    {
     "name": "stdout",
     "output_type": "stream",
     "text": [
      "130\n"
     ]
    }
   ],
   "source": [
    "shiftsel = np.absolute(jnzd)>0.0005\n",
    "Z, COVd = GenerateDsetAndCov(shiftsel)\n",
    "print(len(Z))"
   ]
  },
  {
   "cell_type": "code",
   "execution_count": 95,
   "metadata": {},
   "outputs": [
    {
     "name": "stderr",
     "output_type": "stream",
     "text": [
      "/lustre/hpc/icecube/mrameez/.local/lib/python3.5/site-packages/lmfit/minimizer.py:1356: RuntimeWarning: overflow encountered in exp\n",
      "  result.chisqr = np.exp(_neg2_log_likel)\n"
     ]
    }
   ],
   "source": [
    "ZINDEX = 9\n",
    "MAGINDEX = 1\n",
    "STRETCHINDEX = 2\n",
    "COLORINDEX = 3\n",
    "minner = Minimizer(lmfitccVM, lmp)\n",
    "resultz9m1spabs0005 = minner.emcee(steps = 1500, nwalkers=100, burn=1000)"
   ]
  },
  {
   "cell_type": "code",
   "execution_count": 96,
   "metadata": {},
   "outputs": [],
   "source": [
    "ZINDEX = 10\n",
    "MAGINDEX = 1\n",
    "STRETCHINDEX = 2\n",
    "COLORINDEX = 3\n",
    "minner = Minimizer(lmfitccVM, lmp)\n",
    "resultz10m1spabs0005 = minner.emcee(steps = 1500, nwalkers=100, burn=1000)"
   ]
  },
  {
   "cell_type": "code",
   "execution_count": 97,
   "metadata": {},
   "outputs": [],
   "source": [
    "ZINDEX = 10\n",
    "MAGINDEX = 11\n",
    "STRETCHINDEX = 12\n",
    "COLORINDEX = 13\n",
    "minner = Minimizer(lmfitccVM, lmp)\n",
    "resultz10m11spabs0005 = minner.emcee(steps = 1500, nwalkers=100, burn=1000)"
   ]
  },
  {
   "cell_type": "code",
   "execution_count": 123,
   "metadata": {},
   "outputs": [
    {
     "data": {
      "text/plain": [
       "(1, 33000)"
      ]
     },
     "execution_count": 123,
     "metadata": {},
     "output_type": "execute_result"
    },
    {
     "data": {
      "image/png": "[encoded data removed]",
      "text/plain": [
       "<Figure size 720x480 with 1 Axes>"
      ]
     },
     "metadata": {
      "needs_background": "light"
     },
     "output_type": "display_data"
    }
   ],
   "source": [
    "bn = np.linspace(65., 85., 301)\n",
    "\n",
    "k = plt.hist(resultz9m1spabs0005.flatchain['h']*100., bins=bn, color='blue', alpha=0.3, label = r'$\\rm{ z_{JLA},\\  m_{JLA} }$')\n",
    "plt.hist(resultz10m1spabs0005.flatchain['h']*100., bins=k[1], color='red', alpha=0.3, label = r'$\\rm{ z_{Pantheon},\\  m_{JLA} }$')\n",
    "plt.hist(resultz10m11spabs0005.flatchain['h']*100., bins=k[1], color='green', alpha=0.3, label = r'$\\rm{ z_{Pantheon},\\ m_{Pantheon} }$')\n",
    "plt.fill_betweenx(y, x1, x2, color='grey', alpha=0.3)\n",
    "plt.text(67.2, 1000, 'Planck 2018', rotation=90, fontsize=20)\n",
    "plt.xlabel(r'$ {\\rm H_0 }\\ [{\\rm km\\ s}^{-1} {\\rm Mpc}^{-1}]$', fontsize=20)\n",
    "plt.legend(loc='best', fontsize=14, ncol=3)\n",
    "plt.title(r'$\\rm{ |z_{diff}| > 0.0005 }$', fontsize=20)\n",
    "plt.yscale('log')\n",
    "plt.ylim(1, 33000)"
   ]
  },
  {
   "cell_type": "code",
   "execution_count": null,
   "metadata": {},
   "outputs": [],
   "source": []
  }
 ],
 "metadata": {
  "kernelspec": {
   "display_name": "Python 3",
   "language": "python",
   "name": "python3"
  },
  "language_info": {
   "codemirror_mode": {
    "name": "ipython",
    "version": 3
   },
   "file_extension": ".py",
   "mimetype": "text/x-python",
   "name": "python",
   "nbconvert_exporter": "python",
   "pygments_lexer": "ipython3",
   "version": "3.5.7"
  }
 },
 "nbformat": 4,
 "nbformat_minor": 2
}
