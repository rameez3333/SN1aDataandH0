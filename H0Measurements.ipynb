{
 "cells": [
  {
   "cell_type": "code",
   "execution_count": 163,
   "metadata": {},
   "outputs": [],
   "source": [
    "import numpy as np\n",
    "%matplotlib inline\n",
    "import matplotlib.pyplot as plt\n",
    "import glob\n",
    "import pyfits\n",
    "from collections import OrderedDict\n",
    "from astropy.coordinates import SkyCoord\n",
    "import healpy as hp\n",
    "from astropy import units as u\n",
    "from scipy import interpolate, linalg, optimize\n",
    "from lmfit import Parameters, fit_report, minimize, Minimizer\n",
    "plt.rcParams['figure.figsize'] = [9, 6]\n",
    "plt.rcParams['figure.dpi'] = 80\n",
    "plt.rcParams['xtick.labelsize'] = 15\n",
    "plt.rcParams['ytick.labelsize'] = 0"
   ]
  },
  {
   "cell_type": "markdown",
   "metadata": {},
   "source": [
    "Deceleration and jerk are fixed to those in Riess et al 2016, while the absolute magnitude is fixed to avoid having to use a local distance ladder, since the objective is only to study the impact of redshift and magnitude discrepancies on H0. Skip to lines 201 for the results."
   ]
  },
  {
   "cell_type": "code",
   "execution_count": 143,
   "metadata": {},
   "outputs": [],
   "source": [
    "c = 299792.458 # km/s\n",
    "Mb = -19.10\n",
    "q0 = -0.55\n",
    "j0 = 1"
   ]
  },
  {
   "cell_type": "code",
   "execution_count": 17,
   "metadata": {},
   "outputs": [],
   "source": [
    "def LoadData():\n",
    "    #just a file with compiled magnitudes, redshifts etc from JLA, for convenience\n",
    "    ZTOT = np.load( 'JLADirZInc.npy' )\n",
    "    #And this one at https://github.com/cmbant/CosmoMC/blob/master/data/jla_lcparams.txt\n",
    "    #Or download from http://supernovae.in2p3.fr/sdss_snls_jla/ReadMe.html\n",
    "    jlarr = np.genfromtxt('jla_lcparams.txt', skip_header=1)\n",
    "    ZHEL = jlarr.transpose()[2]\n",
    "    ZCMB = jlarr.transpose()[1]\n",
    "    #Find this file at : https://github.com/dscolnic/Pantheon/blob/master/lcparam_full_long_zhel.txt\n",
    "    panarr = np.genfromtxt('lcparam_full_long_zhel.txt', skip_header=1)\n",
    "    pannames = np.asarray([k.split()[0] for k in open('lcparam_full_long_zhel.txt').readlines()[1:]])\n",
    "    #And this one at https://github.com/cmbant/CosmoMC/blob/master/data/jla_lcparams.txt\n",
    "    #Or download from http://supernovae.in2p3.fr/sdss_snls_jla/ReadMe.html\n",
    "    jlarr = np.genfromtxt('jla_lcparams.txt', skip_header=1)\n",
    "    jlnames = np.asarray([k.split()[0] for k in open('jla_lcparams.txt').readlines()[1:]])\n",
    "    plines = open('lcparam_full_long_zhel.txt').readlines()[1:]\n",
    "    jlnamesn = np.asarray([k.replace('sn', '').replace('SDSS','') for k in jlnames])\n",
    "    #Get this from  https://zenodo.org/record/34487, or use an identity matrix. You may also use the full stat+syst covariance matrix. Makes hardly any difference\n",
    "    COVT = np.load( 'stat.npy' )    \n",
    "    zhdiffs=OrderedDict()\n",
    "    panzs = OrderedDict()\n",
    "    panzcs = OrderedDict()\n",
    "    panmbs = OrderedDict()\n",
    "    panx1s = OrderedDict()\n",
    "    pancolors = OrderedDict()\n",
    "    jlzs = OrderedDict()\n",
    "    jlras = OrderedDict()\n",
    "    jldecs = OrderedDict()\n",
    "    injla =[]\n",
    "    for i in range(len(jlnamesn)):\n",
    "    #print jlnamesn[i], pannames[pannames==jlnamesn[i]]\n",
    "        if jlnamesn[i] in pannames:\n",
    "            injla.append(True)\n",
    "            #print jlarr.transpose()[2][i], panarr.transpose()[2][pannames==jlnamesn[i]]\n",
    "            zhdiffs[jlnamesn[i]] = jlarr.transpose()[2][i] - panarr.transpose()[2][pannames==jlnamesn[i]][0]#the difference between pantheon and jla redshifts (zhel)\n",
    "            panzs[jlnamesn[i]] = panarr.transpose()[2][pannames==jlnamesn[i]][0]#pantheon zhel\n",
    "            panzcs[jlnamesn[i]] = panarr.transpose()[1][pannames==jlnamesn[i]][0]#pantheon zcmb\n",
    "            panmbs[jlnamesn[i]] = panarr.transpose()[4][pannames==jlnamesn[i]][0]\n",
    "            panx1s[jlnamesn[i]] = panarr.transpose()[6][pannames==jlnamesn[i]][0]\n",
    "            pancolors[jlnamesn[i]] = panarr.transpose()[8][pannames==jlnamesn[i]][0]\n",
    "            jlras[jlnamesn[i]] = jlarr.transpose()[18][i]\n",
    "            jldecs[jlnamesn[i]] = jlarr.transpose()[19][i]\n",
    "            jlzs[jlnamesn[i]] = jlarr.transpose()[2][i]#jla redshifts\n",
    "        else:\n",
    "            injla.append(False)\n",
    "    \n",
    "    jnzd = np.asarray(list(zhdiffs.values()))\n",
    "    return jnzd"
   ]
  },
  {
   "cell_type": "code",
   "execution_count": 20,
   "metadata": {},
   "outputs": [],
   "source": [
    "def GenerateDsetAndCov(shiftsel, verbose=False):\n",
    "    ZTOT = np.load( 'JLADirZInc.npy' )\n",
    "    jlarr = np.genfromtxt('jla_lcparams.txt', skip_header=1)\n",
    "    ZHEL = jlarr.transpose()[2]\n",
    "    ZCMB = jlarr.transpose()[1]\n",
    "    #Find this file at : https://github.com/dscolnic/Pantheon/blob/master/lcparam_full_long_zhel.txt\n",
    "    panarr = np.genfromtxt('lcparam_full_long_zhel.txt', skip_header=1)\n",
    "    pannames = np.asarray([k.split()[0] for k in open('lcparam_full_long_zhel.txt').readlines()[1:]])\n",
    "    #And this one at https://github.com/cmbant/CosmoMC/blob/master/data/jla_lcparams.txt\n",
    "    #Or download from http://supernovae.in2p3.fr/sdss_snls_jla/ReadMe.html\n",
    "    jlarr = np.genfromtxt('jla_lcparams.txt', skip_header=1)\n",
    "    jlnames = np.asarray([k.split()[0] for k in open('jla_likelihood_v6/data/jla_lcparams.txt').readlines()[1:]])\n",
    "    plines = open('lcparam_full_long_zhel.txt').readlines()[1:]\n",
    "    jlnamesn = np.asarray([k.replace('sn', '').replace('SDSS','') for k in jlnames])\n",
    "    COVT = np.load( 'stat.npy' )    \n",
    "    zhdiffs=OrderedDict()\n",
    "    panzs = OrderedDict()\n",
    "    panzcs = OrderedDict()\n",
    "    panmbs = OrderedDict()\n",
    "    panx1s = OrderedDict()\n",
    "    pancolors = OrderedDict()\n",
    "    jlzs = OrderedDict()\n",
    "    jlras = OrderedDict()\n",
    "    jldecs = OrderedDict()\n",
    "    injla =[]\n",
    "    for i in range(len(jlnamesn)):\n",
    "    #print jlnamesn[i], pannames[pannames==jlnamesn[i]]\n",
    "        if jlnamesn[i] in pannames:\n",
    "            injla.append(True)\n",
    "            #print jlarr.transpose()[2][i], panarr.transpose()[2][pannames==jlnamesn[i]]\n",
    "            zhdiffs[jlnamesn[i]] = jlarr.transpose()[2][i] - panarr.transpose()[2][pannames==jlnamesn[i]][0]#the difference between pantheon and jla redshifts (zhel)\n",
    "            panzs[jlnamesn[i]] = panarr.transpose()[2][pannames==jlnamesn[i]][0]#pantheon zhel\n",
    "            panzcs[jlnamesn[i]] = panarr.transpose()[1][pannames==jlnamesn[i]][0]#pantheon zcmb\n",
    "            panmbs[jlnamesn[i]] = panarr.transpose()[4][pannames==jlnamesn[i]][0]\n",
    "            panx1s[jlnamesn[i]] = panarr.transpose()[6][pannames==jlnamesn[i]][0]\n",
    "            pancolors[jlnamesn[i]] = panarr.transpose()[8][pannames==jlnamesn[i]][0]\n",
    "            jlras[jlnamesn[i]] = jlarr.transpose()[18][i]\n",
    "            jldecs[jlnamesn[i]] = jlarr.transpose()[19][i]\n",
    "            jlzs[jlnamesn[i]] = jlarr.transpose()[2][i]#jla redshifts\n",
    "        else:\n",
    "            injla.append(False)\n",
    "    \n",
    "    jnn = np.asarray(zhdiffs.keys())\n",
    "    jnzd = np.asarray(list(zhdiffs.values()))\n",
    "    jlzarr = np.asarray(list(jlzs.values()))\n",
    "    panzarr = np.asarray(list(panzs.values()))\n",
    "    panzcarr = np.asarray(list(panzcs.values()))\n",
    "    panmbarr = np.asarray(list(panmbs.values()))\n",
    "    panx1arr = np.asarray(list(panx1s.values()))\n",
    "    pancolorarr = np.asarray(list(pancolors.values()))\n",
    "    jlraarr = np.asarray(jlras.values())\n",
    "    jldecarr = np.asarray(jldecs.values())\n",
    "    \n",
    "    #global ZTOT, COVT\n",
    "    Z = ZTOT[injla][shiftsel]\n",
    "    if verbose:\n",
    "        print(np.shape(Z))\n",
    "        print(np.shape(panzarr[shiftsel]))\n",
    "    newpzs = np.reshape(panzarr[shiftsel], newshape=(len(Z),1))\n",
    "    newpmbs = np.reshape(panmbarr[shiftsel], newshape=(len(Z),1))\n",
    "    newpmx1s = np.reshape(panx1arr[shiftsel], newshape=(len(Z),1))\n",
    "    newpmcolors = np.reshape(pancolorarr[shiftsel], newshape=(len(Z),1))\n",
    "    newpzcs = np.reshape(panzcarr[shiftsel], newshape=(len(Z),1))\n",
    "\n",
    "    Z = np.append(Z, newpzs, axis=1)\n",
    "    Z = np.append(Z, newpmbs, axis=1)\n",
    "    Z = np.append(Z, newpmx1s, axis=1)\n",
    "    Z = np.append(Z, newpmcolors, axis=1)\n",
    "    Z = np.append(Z, newpzcs, axis=1)\n",
    "    cinjla = np.repeat(injla, 3)\n",
    "    cshiftsel = np.repeat(shiftsel, 3)\n",
    "    COVd = COVT.transpose()[cinjla].transpose()[cinjla]\n",
    "    COVd = COVd.transpose()[cshiftsel].transpose()[cshiftsel]\n",
    "    \n",
    "    return Z, COVd"
   ]
  },
  {
   "cell_type": "code",
   "execution_count": 8,
   "metadata": {},
   "outputs": [],
   "source": [
    "def MUZ(Zc, Q0, J0, h=0.7):\n",
    "    H0 = 100.*h\n",
    "    k = 5.*np.log10( c/H0 * dLPhenoF3(Zc, Q0, J0)) + 25.   \n",
    "    if np.any(np.isnan(k)) or np.any(np.isinf(k)):\n",
    "        #print 'Fuck', Q0, J0, OK\n",
    "        #print np.min(Zc[np.isnan(k)]), np.max(Zc[np.isnan(k)]), len(Zc[np.isnan(k)])\n",
    "        k[np.isnan(k)] = 63000.15861331456834\n",
    "        k[np.isinf(k)] = 630000.15661331456834\n",
    "        #print 'This is k', k\n",
    "    return k\n",
    "\n",
    "def dLPhenoF3(z, q0, j0):\n",
    "    return z*(1.+0.5*(1.-q0)*z -1./6.*(1. - q0 - 3.*q0**2. + j0)*z**2.)\n"
   ]
  },
  {
   "cell_type": "code",
   "execution_count": 9,
   "metadata": {},
   "outputs": [],
   "source": [
    "# Likelihood used in NGS2015\n",
    "def m2loglike(pars , RV = 0):\n",
    "    if RV != 0 and RV != 1 and RV != 2:\n",
    "        raise ValueError('Inappropriate RV value')\n",
    "    else:\n",
    "        cov = COV( *[ pars[i] for i in [2,5,9,4,7] ] )\n",
    "        try:\n",
    "            chol_fac = linalg.cho_factor(cov, overwrite_a = True, lower = True ) \n",
    "        except np.linalg.linalg.LinAlgError: # If not positive definite\n",
    "            return +13993*10.**20 \n",
    "        except ValueError: # If contains infinity\n",
    "            return 13995*10.**20\n",
    "        \n",
    "        res = RESVF3( *[ pars[i] for i in [0,1, 2 ,5,8,3,6, 10] ] )\n",
    "        part_log = 3*N*np.log(2*np.pi) + np.sum( np.log( np.diag( chol_fac[0] ) ) ) * 2\n",
    "        part_exp = np.dot( res, linalg.cho_solve( chol_fac, res) )\n",
    "\n",
    "        if pars[0]<-4 or pars[0]>4. or pars[1]<-4. or pars[1]>4. or pars[4]<0 or pars[7]<0 or pars[9]<0:\n",
    "            part_exp += 100* np.sum(np.array([ _**2 for _ in pars ]))\n",
    "            # if outside valid region, give penalty\n",
    "\n",
    "        if RV==0:\n",
    "            m2loglike = part_log + part_exp\n",
    "            return m2loglike \n",
    "        elif RV==1: \n",
    "            return part_exp \n",
    "        elif RV==2:\n",
    "            return part_log"
   ]
  },
  {
   "cell_type": "code",
   "execution_count": 40,
   "metadata": {},
   "outputs": [],
   "source": [
    "def RESVF3( Q0, J0 , A , B , M0, X0, C0, h ): #Total residual, \\hat Z - Y_0*A\n",
    "    global ZINDEX\n",
    "    Y0A = np.array([ M0-A*X0+B*C0, X0, C0 ])\n",
    "    mu = MUZ(Z[:,ZINDEX], Q0, J0, h) ;\n",
    "    return np.hstack( [ (Z[i,1:4] -np.array([mu[i],0,0]) - Y0A ) for i in range(N) ] )  \n",
    "\n",
    "def RESVF3CC( Q0, J0 , A , B , M0, h ): #Total residual, \\hat Z - Y_0*A\n",
    "    global ZINDEX\n",
    "    global MAGINDEX\n",
    "    global COLORINDEX\n",
    "    global STRETCHINDEX\n",
    "    N=len(Z)\n",
    "    mu = MUZ(Z[:,ZINDEX], Q0, J0, h) ;\n",
    "    return Z[:,MAGINDEX] - M0 + A * Z[:,STRETCHINDEX] - B * Z[:,COLORINDEX] - mu"
   ]
  },
  {
   "cell_type": "markdown",
   "metadata": {},
   "source": [
    "The parameters are $q_0, j_0,  \\alpha,  x_{1,0}, \\sigma_{x1, 0}, \\beta , c_0, \\sigma_{c_0}, M_0, \\sigma_{M_0}, h$ \n"
   ]
  },
  {
   "cell_type": "code",
   "execution_count": 11,
   "metadata": {},
   "outputs": [],
   "source": [
    "fguesspars = np.array([ -2.83972523e-01,   3.72853954e-02, 1.34264132e-01,\n",
    "        3.80475068e-02,   8.68197018e-01,   3.05785939e+00,\n",
    "        -1.60647397e-02,   5.04579592e-03,  -1.90471017e+01,\n",
    "        1.17220172e-02, 0.7])"
   ]
  },
  {
   "cell_type": "code",
   "execution_count": 12,
   "metadata": {},
   "outputs": [],
   "source": [
    "bnds = ((-4.,4.),(-4.,4.),\n",
    "            (None,None),(None,None),(0,None),\n",
    "            (None,None),(None,None),(0,None),\n",
    "            (None,None),(0,None), (0, 1.5) )"
   ]
  },
  {
   "cell_type": "code",
   "execution_count": 13,
   "metadata": {},
   "outputs": [],
   "source": [
    "def COV( A , B , VM, VX, VC , RV=0): # Total covariance matrix\n",
    "    block3 = np.array( [[VM + VX*A**2 + VC*B**2,    -VX*A, VC*B],\n",
    "                                                [-VX*A , VX, 0],\n",
    "                                                [ VC*B ,  0, VC]] )\n",
    "    ATCOVlA = linalg.block_diag( *[ block3 for i in range(N) ] ) ;\n",
    "    \n",
    "    if RV==0:\n",
    "        return np.array( COVd + ATCOVlA );\n",
    "    elif RV==1:\n",
    "        return np.array( COVd );\n",
    "    elif RV==2:\n",
    "        return np.array( ATCOVlA );"
   ]
  },
  {
   "cell_type": "code",
   "execution_count": 14,
   "metadata": {},
   "outputs": [],
   "source": [
    "def m2CONSDec(pars):\n",
    "    return pars[0] + 0.55\n",
    "\n",
    "def m2CONSJerk(pars):\n",
    "    return pars[1] - 1\n",
    "\n",
    "def m2CONSMag(pars):\n",
    "    global Mb\n",
    "    return pars[8] - Mb\n",
    "\n"
   ]
  },
  {
   "cell_type": "code",
   "execution_count": 506,
   "metadata": {},
   "outputs": [
    {
     "name": "stdout",
     "output_type": "stream",
     "text": [
      "     fun: -14.796146085013788\n",
      "     jac: array([-1.67828941e+01, -1.54272842e+00, -4.13101196e-01, -2.47156143e-01,\n",
      "        5.72204590e-06, -7.73525238e-02,  6.62387085e+00, -2.49862671e-04,\n",
      "        9.15527344e-05,  4.76837158e-05, -2.09808350e-05])\n",
      " message: 'Optimization terminated successfully.'\n",
      "    nfev: 1009\n",
      "     nit: 74\n",
      "    njev: 74\n",
      "  status: 0\n",
      " success: True\n",
      "       x: array([-5.50000000e-01,  1.00000000e+00,  1.53257992e-01,  1.29048528e-01,\n",
      "        8.70692261e-01,  3.40217404e+00, -3.30197658e-02,  3.65201925e-03,\n",
      "       -1.89430000e+01,  1.82047263e-02,  7.32721275e-01])\n"
     ]
    }
   ],
   "source": [
    "ZINDEX = 0\n",
    "jlzhres = optimize.minimize(m2loglike, fguesspars, method = 'SLSQP', tol=10**-12,  options={'maxiter': 24000}, constraints = ({'type':'eq', 'fun':m2CONSDec}, {'type':'eq', 'fun':m2CONSJerk}, {'type':'eq', 'fun':m2CONSMag}, {'type':'eq', 'fun':m2BetaFixer}, {'type':'eq', 'fun':m2AlphaFixer}, {'type':'eq', 'fun':m2X10Fixer},  {'type':'eq', 'fun':m2Cfixer}), bounds=bnds)\n",
    "print(jlzhres)"
   ]
  },
  {
   "cell_type": "markdown",
   "metadata": {},
   "source": [
    "The parameters are $q_0, j_0,  \\alpha,  x_{1,0}, \\sigma_{x1, 0}, \\beta , c_0, \\sigma_{c_0}, M_0, \\sigma_{M_0}, h$ \n"
   ]
  },
  {
   "cell_type": "markdown",
   "metadata": {},
   "source": [
    "Different types of likelihoods, such as the typical 'constrained chi square' method or the likelihoods used in Nielsen et al 2015. Since the primary shifts originate from the mysteriously changing redshifts, verifying that the relative shifts are independent of the likelihood used is left as an exercise to the reader. "
   ]
  },
  {
   "cell_type": "code",
   "execution_count": 125,
   "metadata": {},
   "outputs": [],
   "source": [
    "def m2loglike(pars , RV = 0):\n",
    "    if RV != 0 and RV != 1 and RV != 2:\n",
    "        raise ValueError('Inappropriate RV value')\n",
    "    else:\n",
    "        cov = COV( *[ pars[i] for i in [2,5,9,4,7] ] )\n",
    "        try:\n",
    "            chol_fac = linalg.cho_factor(cov, overwrite_a = True, lower = True ) \n",
    "        except np.linalg.linalg.LinAlgError: # If not positive definite\n",
    "            return +13993*10.**20 \n",
    "        except ValueError: # If contains infinity\n",
    "            return 13995*10.**20\n",
    "        \n",
    "        res = RESVF3( *[ pars[i] for i in [0,1, 2 ,5,8,3,6, 10] ] )\n",
    "        part_log = 3*N*np.log(2*np.pi) + np.sum( np.log( np.diag( chol_fac[0] ) ) ) * 2\n",
    "        part_exp = np.dot( res, linalg.cho_solve( chol_fac, res) )\n",
    "\n",
    "        if pars[0]<-4 or pars[0]>4. or pars[1]<-4. or pars[1]>4. or pars[4]<0 or pars[7]<0 or pars[9]<0:\n",
    "            part_exp += 100* np.sum(np.array([ _**2 for _ in pars ]))\n",
    "            # if outside valid region, give penalty\n",
    "\n",
    "        if RV==0:\n",
    "            m2loglike = part_log + part_exp\n",
    "            return m2loglike \n",
    "        elif RV==1: \n",
    "            return part_exp \n",
    "        elif RV==2:\n",
    "            return part_log\n",
    "\n",
    "\n",
    "def COV_C( A , B , VM ):\n",
    "    N=len(Z)\n",
    "    block1 = np.array( [1 , A , -B] ) ;\n",
    "    AJLA = linalg.block_diag( *[ block1 for i in range(N) ] );\n",
    "    return np.dot( AJLA, np.dot( COVd, AJLA.transpose() ) ) + np.eye(N) * VM;\n",
    "\n",
    "# pars = [ qm, J, a, b, m0, h] , VM seperate\n",
    "\n",
    "def chi2_C( pars, VM=0.13**2 ):\n",
    "    cov = COV_C( pars[2], pars[3] , VM )\n",
    "    chol_fac = linalg.cho_factor( cov, overwrite_a = True, lower = True )\n",
    "    \n",
    "    res = RESVF3CC( *pars )\n",
    "    \n",
    "    part_exp = np.dot( res , linalg.cho_solve( chol_fac, res) )\n",
    "    return part_exp\n",
    "\n",
    "\n",
    "def chi2_CVM( pars):\n",
    "    cov = COV_C( pars[2], pars[3] , pars[6] )\n",
    "    chol_fac = linalg.cho_factor( cov, overwrite_a = True, lower = True )\n",
    "    N=len(Z)\n",
    "    \n",
    "    res = RESVF3CC( *[ pars[i] for i in [0,1, 2 ,3,4,5 ] ]  )\n",
    "    \n",
    "    part_log = 3*N*np.log(2*np.pi) + np.sum( np.log( np.diag( chol_fac[0] ) ) ) * 2\n",
    "    \n",
    "    part_exp = np.dot( res , linalg.cho_solve( chol_fac, res) )\n",
    "    return part_exp + part_log\n",
    "\n",
    "def lmfitccVM(lmpars):\n",
    "    sppars = list(lmpars.valuesdict().values())\n",
    "    v = chi2_CVM(sppars)\n",
    "    if np.isnan(v):\n",
    "        return -13993*10.**20\n",
    "    return -1.*v\n"
   ]
  },
  {
   "cell_type": "code",
   "execution_count": 25,
   "metadata": {},
   "outputs": [],
   "source": [
    "bndsCC = ((-4.,4.),(-4.,4.), (None,None),(None,None), (None,None), (0, 1.5))\n",
    "bndsCCVM = ((-4.,4.),(-4.,4.), (None,None),(None,None), (None,None), (0, 1.5), (0, None))"
   ]
  },
  {
   "cell_type": "code",
   "execution_count": 26,
   "metadata": {},
   "outputs": [],
   "source": [
    "def chi2CONSMag(pars):\n",
    "    global Mb\n",
    "    return pars[4] - Mb"
   ]
  },
  {
   "cell_type": "markdown",
   "metadata": {},
   "source": [
    "The parameters are $q_0, j_0,  \\alpha,  \\beta ,  M_0, h ,\\sigma_{int}$ "
   ]
  },
  {
   "cell_type": "code",
   "execution_count": 30,
   "metadata": {},
   "outputs": [],
   "source": [
    "fguessparsCCVM = np.array([ -0.55,   1, 1.53257992e-01,\n",
    "        3.40217404e+00,   -1.90471017e+01,   0.7, 0.13])"
   ]
  },
  {
   "cell_type": "code",
   "execution_count": 842,
   "metadata": {},
   "outputs": [
    {
     "name": "stdout",
     "output_type": "stream",
     "text": [
      "     fun: 54.02502430165674\n",
      "     jac: array([-1.95503235e-05,  4.80571747e-01,  6.24656677e-05,  2.09808350e-05,\n",
      "        1.09672546e-04,  6.19888306e-06])\n",
      " message: 'Optimization terminated successfully.'\n",
      "    nfev: 124\n",
      "     nit: 13\n",
      "    njev: 13\n",
      "  status: 0\n",
      " success: True\n",
      "       x: array([ -0.09631392,   1.        ,   0.16300947,   3.18856702,\n",
      "       -18.943     ,   0.70897742])\n"
     ]
    }
   ],
   "source": [
    "ZINDEX = 9\n",
    "MAGINDEX = 1\n",
    "STRETCHINDEX = 2\n",
    "COLORINDEX = 3\n",
    "jlzresCC = optimize.minimize(chi2_C, fguessparsCC, method = 'SLSQP', tol=10**-12,  options={'maxiter': 24000}, constraints = (  {'type':'eq', 'fun':chi2CONSMag} , {'type':'eq', 'fun':m2CONSJerk} ), bounds=bndsCC)\n",
    "print(jlzresCC)"
   ]
  },
  {
   "cell_type": "code",
   "execution_count": 795,
   "metadata": {},
   "outputs": [
    {
     "name": "stdout",
     "output_type": "stream",
     "text": [
      "     fun: 63.69428506923577\n",
      "     jac: array([-1.33514404e-05,  1.56599045e-01, -9.48905945e-05, -4.76837158e-06,\n",
      "        1.28269196e-04, -4.81605530e-05])\n",
      " message: 'Optimization terminated successfully.'\n",
      "    nfev: 104\n",
      "     nit: 11\n",
      "    njev: 11\n",
      "  status: 0\n",
      " success: True\n",
      "       x: array([ -0.23286778,   1.        ,   0.17781674,   2.5045568 ,\n",
      "       -18.943     ,   0.73070687])\n"
     ]
    }
   ],
   "source": [
    "ZINDEX = 10\n",
    "panzresCC = optimize.minimize(chi2_C, fguessparsCC, method = 'SLSQP', tol=10**-12,  options={'maxiter': 24000}, constraints = ({'type':'eq', 'fun':chi2CONSMag}  , {'type':'eq', 'fun':m2CONSJerk} ), bounds=bndsCC)\n",
    "print(panzresCC)"
   ]
  },
  {
   "cell_type": "code",
   "execution_count": 843,
   "metadata": {},
   "outputs": [
    {
     "name": "stdout",
     "output_type": "stream",
     "text": [
      "     fun: 57.25359091116389\n",
      "     jac: array([-9.64703989e+00, -6.55852795e-01,  1.40190125e-04,  5.72204590e-06,\n",
      "        5.81741333e-05,  1.74522400e-04])\n",
      " message: 'Optimization terminated successfully.'\n",
      "    nfev: 82\n",
      "     nit: 8\n",
      "    njev: 8\n",
      "  status: 0\n",
      " success: True\n",
      "       x: array([ -0.55      ,   1.        ,   0.16426364,   3.43079804,\n",
      "       -18.943     ,   0.73231126])\n"
     ]
    },
    {
     "name": "stderr",
     "output_type": "stream",
     "text": [
      "/lustre/hpc/icecube/mrameez/.local/lib/python3.5/site-packages/ipykernel_launcher.py:3: RuntimeWarning: divide by zero encountered in double_scalars\n",
      "  This is separate from the ipykernel package so we can avoid doing imports until\n"
     ]
    }
   ],
   "source": [
    "ZINDEX = 0\n",
    "jlzhresCC = optimize.minimize(chi2_C, fguessparsCC, method = 'SLSQP', tol=10**-12,  options={'maxiter': 24000}, constraints = ({'type':'eq', 'fun':m2CONSDec}, {'type':'eq', 'fun':m2CONSJerk}, {'type':'eq', 'fun':chi2CONSMag}), bounds=bndsCC)\n",
    "print(jlzhresCC)"
   ]
  },
  {
   "cell_type": "code",
   "execution_count": 1248,
   "metadata": {},
   "outputs": [
    {
     "name": "stdout",
     "output_type": "stream",
     "text": [
      "     fun: 171.98984421968254\n",
      "     jac: array([-1.24482079e+01, -1.05544662e+00,  3.24249268e-05, -1.71661377e-05,\n",
      "        1.01089478e-04,  3.24249268e-05,  4.00543213e-05])\n",
      " message: 'Optimization terminated successfully.'\n",
      "    nfev: 424\n",
      "     nit: 41\n",
      "    njev: 41\n",
      "  status: 0\n",
      " success: True\n",
      "       x: array([ -0.55      ,   1.        ,   0.13723239,   2.73023367,\n",
      "       -18.943     ,   0.74618998,   0.01999128])\n"
     ]
    }
   ],
   "source": [
    "ZINDEX = 9\n",
    "MAGINDEX = 1\n",
    "STRETCHINDEX = 2\n",
    "COLORINDEX = 3\n",
    "jlzresCCVM = optimize.minimize(chi2_CVM, fguessparsCCVM, method = 'SLSQP', tol=10**-14,  options={'maxiter': 24000}, constraints = ({'type':'eq', 'fun':m2CONSDec},  {'type':'eq', 'fun':m2CONSJerk}, {'type':'eq', 'fun':chi2CONSMag}), bounds=bndsCCVM)\n",
    "print(jlzresCCVM)"
   ]
  },
  {
   "cell_type": "code",
   "execution_count": 1135,
   "metadata": {},
   "outputs": [
    {
     "data": {
      "text/plain": [
       "13"
      ]
     },
     "execution_count": 1135,
     "metadata": {},
     "output_type": "execute_result"
    }
   ],
   "source": [
    "len(Z[:,ZINDEX])"
   ]
  },
  {
   "cell_type": "code",
   "execution_count": 1178,
   "metadata": {},
   "outputs": [
    {
     "name": "stdout",
     "output_type": "stream",
     "text": [
      "     fun: 163.65534987024265\n",
      "     jac: array([-9.53674316e-06, -2.81593323e-01,  2.88715553e+00,  5.43525696e-01,\n",
      "        8.96453857e-05, -6.67572021e-05, -4.00543213e-05])\n",
      " message: 'Optimization terminated successfully.'\n",
      "    nfev: 219\n",
      "     nit: 22\n",
      "    njev: 22\n",
      "  status: 0\n",
      " success: True\n",
      "       x: array([ -0.60931052,   1.        ,   0.13723239,   2.73023367,\n",
      "       -18.943     ,   0.86987295,   0.02671952])\n"
     ]
    }
   ],
   "source": [
    "ZINDEX = 9\n",
    "MAGINDEX = 11\n",
    "STRETCHINDEX = 12\n",
    "COLORINDEX = 13\n",
    "panzresCCVM = optimize.minimize(chi2_CVM, fguessparsCCVM, method = 'SLSQP', tol=10**-12,  options={'maxiter': 24000}, constraints = ({'type':'eq', 'fun':m2CONSJerk}, {'type':'eq', 'fun':chi2CONSMag}, {'type':'eq', 'fun':chi2AlphaFixer}, {'type':'eq', 'fun':chi2BetaFixer}), bounds=bndsCCVM)\n",
    "print(panzresCCVM)"
   ]
  },
  {
   "cell_type": "code",
   "execution_count": 140,
   "metadata": {},
   "outputs": [
    {
     "name": "stdout",
     "output_type": "stream",
     "text": [
      "     fun: 47.940835561938684\n",
      "     jac: array([-2.02104521e+00, -2.19406605e-01, -2.05039978e-05,  1.00135803e-05,\n",
      "        2.14576721e-05,  1.14440918e-05, -1.69221400e+02])\n",
      " message: 'Optimization terminated successfully.'\n",
      "    nfev: 147\n",
      "     nit: 15\n",
      "    njev: 15\n",
      "  status: 0\n",
      " success: True\n",
      "       x: array([ -0.55      ,   1.        ,   0.16219631,   3.76845294,\n",
      "       -19.1       ,   0.7056059 ,   0.01999128])\n"
     ]
    }
   ],
   "source": [
    "ZINDEX = 9\n",
    "MAGINDEX = 1\n",
    "STRETCHINDEX = 2\n",
    "COLORINDEX = 3\n",
    "panzresCCVM = optimize.minimize(chi2_CVM, fguessparsCCVM, method = 'SLSQP', tol=10**-12,  options={'maxiter': 24000}, constraints = ({'type':'eq', 'fun':m2CONSDec}, {'type':'eq', 'fun':m2CONSJerk}, {'type':'eq', 'fun':chi2CONSMag}, {'type':'eq', 'fun':chi2VMFixer}), bounds=bndsCCVM)\n",
    "print(panzresCCVM)"
   ]
  },
  {
   "cell_type": "code",
   "execution_count": 1216,
   "metadata": {},
   "outputs": [
    {
     "data": {
      "text/plain": [
       "array([0., 0., 0., 0., 0., 0., 0., 0., 0., 0., 0., 0., 0.])"
      ]
     },
     "execution_count": 1216,
     "metadata": {},
     "output_type": "execute_result"
    }
   ],
   "source": [
    "Z[:,13]"
   ]
  },
  {
   "cell_type": "code",
   "execution_count": 1214,
   "metadata": {},
   "outputs": [
    {
     "data": {
      "text/plain": [
       "array([20.662, 21.385, 21.846, 20.73 , 21.161, 20.666, 20.174, 21.202,\n",
       "       20.967, 21.355, 21.511, 20.358, 17.836])"
      ]
     },
     "execution_count": 1214,
     "metadata": {},
     "output_type": "execute_result"
    }
   ],
   "source": [
    "Z[:,1]"
   ]
  },
  {
   "cell_type": "code",
   "execution_count": 135,
   "metadata": {},
   "outputs": [
    {
     "name": "stdout",
     "output_type": "stream",
     "text": [
      "13\n"
     ]
    }
   ],
   "source": [
    "jnzd = LoadData()\n",
    "shiftsel = jnzd>0.0025\n",
    "Z, COVd = GenerateDsetAndCov(shiftsel)\n",
    "print(len(Z))"
   ]
  },
  {
   "cell_type": "code",
   "execution_count": 137,
   "metadata": {},
   "outputs": [],
   "source": [
    "lmp = Parameters()\n",
    "pnames = ['Q0', 'J0', 'alpha', 'beta', 'M0', 'h' ,'sigint']\n",
    "fguessparsCCVM = np.array([ -0.55,   1, 1.53257992e-01, 3.40217404e+00,   -1.91e+01,   0.7, 0.13])\n",
    "tovary = [False, False, True, True, False, True, True]\n",
    "bndsCCVM = ((-4.,4.),(-4.,4.), (None,None),(None,None), (None,None), (0, 1.5), (0, None))\n",
    "inguess = fguessparsCCVM\n",
    "for val, name, bnd, wtv in zip(inguess, pnames, bndsCCVM, tovary):\n",
    "    lmp.add(name, value=val, min=bnd[0], max=bnd[1], vary=wtv)"
   ]
  },
  {
   "cell_type": "code",
   "execution_count": 165,
   "metadata": {},
   "outputs": [
    {
     "name": "stdout",
     "output_type": "stream",
     "text": [
      "     fun: 46.516198017080285\n",
      "     jac: array([-1.88617945e+00, -2.16729164e-01,  4.76837158e-07, -4.76837158e-07,\n",
      "        1.76429749e-05, -6.19888306e-06,  1.52587891e-05])\n",
      " message: 'Optimization terminated successfully.'\n",
      "    nfev: 269\n",
      "     nit: 26\n",
      "    njev: 26\n",
      "  status: 0\n",
      " success: True\n",
      "       x: array([ -0.55      ,   1.        ,   0.13877112,   3.0194282 ,\n",
      "       -19.1       ,   0.71527662,   0.04126389])\n"
     ]
    }
   ],
   "source": [
    "ZINDEX = 9\n",
    "MAGINDEX = 1\n",
    "STRETCHINDEX = 2\n",
    "COLORINDEX = 3\n",
    "jlzresCCVM = optimize.minimize(chi2_CVM, fguessparsCCVM, method = 'SLSQP', tol=10**-14,  options={'maxiter': 24000}, constraints = ({'type':'eq', 'fun':m2CONSDec},  {'type':'eq', 'fun':m2CONSJerk}, {'type':'eq', 'fun':chi2CONSMag}), bounds=bndsCCVM)\n",
    "print(jlzresCCVM)"
   ]
  },
  {
   "cell_type": "code",
   "execution_count": 166,
   "metadata": {},
   "outputs": [],
   "source": [
    "minner = Minimizer(lmfitccVM, lmp)\n",
    "resultz9m1sp0025 = minner.emcee(steps = 1500, nwalkers=100, burn=1000)"
   ]
  },
  {
   "cell_type": "code",
   "execution_count": 167,
   "metadata": {},
   "outputs": [
    {
     "name": "stdout",
     "output_type": "stream",
     "text": [
      "     fun: 46.868040491184146\n",
      "     jac: array([-2.12622833e+00, -2.62548923e-01,  4.76837158e-06, -4.76837158e-06,\n",
      "        7.62939453e-06,  3.29017639e-05,  0.00000000e+00])\n",
      " message: 'Optimization terminated successfully.'\n",
      "    nfev: 223\n",
      "     nit: 21\n",
      "    njev: 21\n",
      "  status: 0\n",
      " success: True\n",
      "       x: array([ -0.55      ,   1.        ,   0.1362976 ,   1.25853134,\n",
      "       -19.1       ,   0.68331353,   0.04784683])\n"
     ]
    },
    {
     "name": "stderr",
     "output_type": "stream",
     "text": [
      "/lustre/hpc/icecube/mrameez/.local/lib/python3.5/site-packages/ipykernel_launcher.py:3: RuntimeWarning: divide by zero encountered in double_scalars\n",
      "  This is separate from the ipykernel package so we can avoid doing imports until\n"
     ]
    }
   ],
   "source": [
    "ZINDEX = 10\n",
    "MAGINDEX = 1\n",
    "STRETCHINDEX = 2\n",
    "COLORINDEX = 3\n",
    "jlzresCCVM10m1sp0025 = optimize.minimize(chi2_CVM, fguessparsCCVM, method = 'SLSQP', tol=10**-14,  options={'maxiter': 24000}, constraints = ({'type':'eq', 'fun':m2CONSDec},  {'type':'eq', 'fun':m2CONSJerk}, {'type':'eq', 'fun':chi2CONSMag}), bounds=bndsCCVM)\n",
    "print(jlzresCCVM10m1sp0025)"
   ]
  },
  {
   "cell_type": "code",
   "execution_count": 168,
   "metadata": {},
   "outputs": [],
   "source": [
    "minner = Minimizer(lmfitccVM, lmp)\n",
    "resultz10m1sp0025 = minner.emcee(steps = 1500, nwalkers=100, burn=1000)"
   ]
  },
  {
   "cell_type": "code",
   "execution_count": 169,
   "metadata": {},
   "outputs": [
    {
     "name": "stdout",
     "output_type": "stream",
     "text": [
      "     fun: 41.420993944031615\n",
      "     jac: array([ 3.36545944e-01,  6.34627342e-02,  4.76837158e-07,  0.00000000e+00,\n",
      "        3.05175781e-05, -4.29153442e-06,  3.83121872e+00])\n",
      " message: 'Optimization terminated successfully.'\n",
      "    nfev: 273\n",
      "     nit: 28\n",
      "    njev: 28\n",
      "  status: 0\n",
      " success: True\n",
      "       x: array([ -0.55      ,   1.        ,  -0.60888972,   1.8640779 ,\n",
      "       -19.1       ,   0.7956013 ,   0.        ])\n"
     ]
    }
   ],
   "source": [
    "ZINDEX = 10\n",
    "MAGINDEX = 11\n",
    "STRETCHINDEX = 12\n",
    "COLORINDEX = 13\n",
    "jlzresCCVM10m11sp0025 = optimize.minimize(chi2_CVM, fguessparsCCVM, method = 'SLSQP', tol=10**-14,  options={'maxiter': 24000}, constraints = ({'type':'eq', 'fun':m2CONSDec},  {'type':'eq', 'fun':m2CONSJerk}, {'type':'eq', 'fun':chi2CONSMag}), bounds=bndsCCVM)\n",
    "print(jlzresCCVM10m11sp0025)"
   ]
  },
  {
   "cell_type": "code",
   "execution_count": 170,
   "metadata": {},
   "outputs": [],
   "source": [
    "minner = Minimizer(lmfitccVM, lmp)\n",
    "resultz10m11sp0025 = minner.emcee(steps = 1500, nwalkers=100, burn=1000)"
   ]
  },
  {
   "cell_type": "code",
   "execution_count": 201,
   "metadata": {},
   "outputs": [
    {
     "data": {
      "text/plain": [
       "(0, 4400)"
      ]
     },
     "execution_count": 201,
     "metadata": {},
     "output_type": "execute_result"
    },
    {
     "data": {
      "image/png": "[encoded data removed]",
      "text/plain": [
       "<Figure size 720x480 with 1 Axes>"
      ]
     },
     "metadata": {
      "needs_background": "light"
     },
     "output_type": "display_data"
    }
   ],
   "source": [
    "k = plt.hist(resultz9m1sp0025.flatchain['h']*100., bins=70, color='red', alpha=0.3, label = r'$\\rm{ z_{JLA},\\  M_{JLA} }$')\n",
    "plt.hist(resultz10m1sp0025.flatchain['h']*100., bins=k[1], color='blue', alpha=0.3, label = r'$\\rm{ z_{Pantheon},\\  M_{JLA} }$')\n",
    "plt.hist(resultz10m11sp0025.flatchain['h']*100., bins=k[1], color='green', alpha=0.3, label = r'$\\rm{ z_{Pantheon},\\ M_{Pantheon} }$')\n",
    "plt.xlabel(r'$ {\\rm H_0 }\\ [{\\rm km\\ s}^{-1} {\\rm Mpc}^{-1}]$', fontsize=20)\n",
    "plt.legend(loc='best', fontsize=14, ncol=3)\n",
    "plt.title(r'$\\rm{ z_{diff} > 0.0025 }$', fontsize=20)\n",
    "plt.ylim(0, 4400)\n"
   ]
  },
  {
   "cell_type": "code",
   "execution_count": 190,
   "metadata": {},
   "outputs": [
    {
     "name": "stdout",
     "output_type": "stream",
     "text": [
      "52\n"
     ]
    }
   ],
   "source": [
    "shiftsel = jnzd>0.0005\n",
    "Z, COVd = GenerateDsetAndCov(shiftsel)\n",
    "print(len(Z))"
   ]
  },
  {
   "cell_type": "code",
   "execution_count": 191,
   "metadata": {},
   "outputs": [
    {
     "name": "stderr",
     "output_type": "stream",
     "text": [
      "/lustre/hpc/icecube/mrameez/.local/lib/python3.5/site-packages/ipykernel_launcher.py:3: RuntimeWarning: divide by zero encountered in double_scalars\n",
      "  This is separate from the ipykernel package so we can avoid doing imports until\n"
     ]
    },
    {
     "name": "stdout",
     "output_type": "stream",
     "text": [
      "     fun: 152.980646843116\n",
      "     jac: array([-2.53336525e+00, -5.83209991e-01,  4.76837158e-05, -3.81469727e-06,\n",
      "        1.39236450e-04, -8.20159912e-05,  1.48773193e-04])\n",
      " message: 'Optimization terminated successfully.'\n",
      "    nfev: 360\n",
      "     nit: 36\n",
      "    njev: 34\n",
      "  status: 0\n",
      " success: True\n",
      "       x: array([ -0.55      ,   1.        ,   0.12628104,   2.70621527,\n",
      "       -19.1       ,   0.71171421,   0.02049242])\n"
     ]
    }
   ],
   "source": [
    "ZINDEX = 9\n",
    "MAGINDEX = 1\n",
    "STRETCHINDEX = 2\n",
    "COLORINDEX = 3\n",
    "jlzresCCVM = optimize.minimize(chi2_CVM, fguessparsCCVM, method = 'SLSQP', tol=10**-14,  options={'maxiter': 24000}, constraints = ({'type':'eq', 'fun':m2CONSDec},  {'type':'eq', 'fun':m2CONSJerk}, {'type':'eq', 'fun':chi2CONSMag}), bounds=bndsCCVM)\n",
    "print(jlzresCCVM)"
   ]
  },
  {
   "cell_type": "code",
   "execution_count": 192,
   "metadata": {},
   "outputs": [],
   "source": [
    "minner = Minimizer(lmfitccVM, lmp)\n",
    "resultz9m1sp0005 = minner.emcee(steps = 1500, nwalkers=100, burn=1000)"
   ]
  },
  {
   "cell_type": "code",
   "execution_count": 193,
   "metadata": {},
   "outputs": [
    {
     "name": "stderr",
     "output_type": "stream",
     "text": [
      "/lustre/hpc/icecube/mrameez/.local/lib/python3.5/site-packages/ipykernel_launcher.py:3: RuntimeWarning: divide by zero encountered in double_scalars\n",
      "  This is separate from the ipykernel package so we can avoid doing imports until\n"
     ]
    },
    {
     "name": "stdout",
     "output_type": "stream",
     "text": [
      "     fun: 159.89975125402717\n",
      "     jac: array([-6.26879120e+00, -8.68526459e-01,  1.90734863e-06,  7.62939453e-06,\n",
      "        1.04904175e-04,  5.72204590e-06, -1.10626221e-04])\n",
      " message: 'Optimization terminated successfully.'\n",
      "    nfev: 380\n",
      "     nit: 37\n",
      "    njev: 35\n",
      "  status: 0\n",
      " success: True\n",
      "       x: array([ -0.55      ,   1.        ,   0.12559463,   2.37607177,\n",
      "       -19.1       ,   0.69352812,   0.02508369])\n"
     ]
    }
   ],
   "source": [
    "ZINDEX = 10\n",
    "MAGINDEX = 1\n",
    "STRETCHINDEX = 2\n",
    "COLORINDEX = 3\n",
    "jlzresCCVM10m1sp0005 = optimize.minimize(chi2_CVM, fguessparsCCVM, method = 'SLSQP', tol=10**-14,  options={'maxiter': 24000}, constraints = ({'type':'eq', 'fun':m2CONSDec},  {'type':'eq', 'fun':m2CONSJerk}, {'type':'eq', 'fun':chi2CONSMag}), bounds=bndsCCVM)\n",
    "print(jlzresCCVM10m1sp0005)"
   ]
  },
  {
   "cell_type": "code",
   "execution_count": 194,
   "metadata": {},
   "outputs": [],
   "source": [
    "minner = Minimizer(lmfitccVM, lmp)\n",
    "resultz10m1sp0005 = minner.emcee(steps = 1500, nwalkers=100, burn=1000)"
   ]
  },
  {
   "cell_type": "code",
   "execution_count": 195,
   "metadata": {},
   "outputs": [
    {
     "name": "stderr",
     "output_type": "stream",
     "text": [
      "/lustre/hpc/icecube/mrameez/.local/lib/python3.5/site-packages/ipykernel_launcher.py:3: RuntimeWarning: divide by zero encountered in double_scalars\n",
      "  This is separate from the ipykernel package so we can avoid doing imports until\n"
     ]
    },
    {
     "name": "stdout",
     "output_type": "stream",
     "text": [
      "     fun: 142.36327556844822\n",
      "     jac: array([ 5.87259865e+00,  2.65617371e-01, -1.14440918e-05,  3.81469727e-06,\n",
      "        1.20162964e-04,  5.91278076e-05, -3.24249268e-05])\n",
      " message: 'Optimization terminated successfully.'\n",
      "    nfev: 260\n",
      "     nit: 26\n",
      "    njev: 25\n",
      "  status: 0\n",
      " success: True\n",
      "       x: array([-5.50000000e-01,  1.00000000e+00,  1.99611942e-01, -6.59309383e-01,\n",
      "       -1.91000000e+01,  7.83248834e-01,  1.30214145e-02])\n"
     ]
    }
   ],
   "source": [
    "ZINDEX = 10\n",
    "MAGINDEX = 11\n",
    "STRETCHINDEX = 12\n",
    "COLORINDEX = 13\n",
    "jlzresCCVM10m11sp0005 = optimize.minimize(chi2_CVM, fguessparsCCVM, method = 'SLSQP', tol=10**-14,  options={'maxiter': 24000}, constraints = ({'type':'eq', 'fun':m2CONSDec},  {'type':'eq', 'fun':m2CONSJerk}, {'type':'eq', 'fun':chi2CONSMag}), bounds=bndsCCVM)\n",
    "print(jlzresCCVM10m11sp0005)"
   ]
  },
  {
   "cell_type": "code",
   "execution_count": 196,
   "metadata": {},
   "outputs": [],
   "source": [
    "minner = Minimizer(lmfitccVM, lmp)\n",
    "resultz10m11sp0005 = minner.emcee(steps = 1500, nwalkers=100, burn=1000)"
   ]
  },
  {
   "cell_type": "code",
   "execution_count": 202,
   "metadata": {},
   "outputs": [
    {
     "data": {
      "text/plain": [
       "(0, 4400)"
      ]
     },
     "execution_count": 202,
     "metadata": {},
     "output_type": "execute_result"
    },
    {
     "data": {
      "image/png": "[encoded data removed]",
      "text/plain": [
       "<Figure size 720x480 with 1 Axes>"
      ]
     },
     "metadata": {
      "needs_background": "light"
     },
     "output_type": "display_data"
    }
   ],
   "source": [
    "b = np.linspace(65, 85, 201)\n",
    "k = plt.hist(resultz10m11sp0005.flatchain['h']*100., bins=b, color='green', alpha=0.3, label = r'$\\rm{ z_{Pantheon},\\ M_{Pantheon} }$')\n",
    "plt.hist(resultz9m1sp0005.flatchain['h']*100., bins=k[1], color='red', alpha=0.3, label = r'$\\rm{ z_{JLA},\\  M_{JLA} }$')\n",
    "plt.hist(resultz10m1sp0005.flatchain['h']*100., bins=k[1], color='blue', alpha=0.3, label = r'$\\rm{ z_{Pantheon},\\  M_{JLA} }$')\n",
    "#plt.hist(resultz10m11sp0005.flatchain['h']*100., bins=k[1], color='green', alpha=0.3, label = r'$\\rm{ z_{Pantheon},\\ M_{Pantheon} }$')\n",
    "plt.xlabel(r'$ {\\rm H_0 }\\ [{\\rm km\\ s}^{-1} {\\rm Mpc}^{-1}]$', fontsize=20)\n",
    "plt.legend(loc='best', fontsize=14, ncol=3)\n",
    "plt.title(r'$\\rm{ z_{diff} > 0.0005 }$', fontsize=20)\n",
    "plt.ylim(0, 4400)"
   ]
  },
  {
   "cell_type": "code",
   "execution_count": 203,
   "metadata": {},
   "outputs": [
    {
     "name": "stdout",
     "output_type": "stream",
     "text": [
      "58\n"
     ]
    }
   ],
   "source": [
    "shiftsel = np.absolute(jnzd)>0.0025\n",
    "Z, COVd = GenerateDsetAndCov(shiftsel)\n",
    "print(len(Z))"
   ]
  },
  {
   "cell_type": "code",
   "execution_count": null,
   "metadata": {},
   "outputs": [],
   "source": []
  },
  {
   "cell_type": "code",
   "execution_count": null,
   "metadata": {},
   "outputs": [],
   "source": []
  },
  {
   "cell_type": "code",
   "execution_count": 208,
   "metadata": {},
   "outputs": [],
   "source": [
    "ZINDEX = 9\n",
    "MAGINDEX = 1\n",
    "STRETCHINDEX = 2\n",
    "COLORINDEX = 3\n",
    "minner = Minimizer(lmfitccVM, lmp)\n",
    "resultz9m1spabs0025 = minner.emcee(steps = 1500, nwalkers=100, burn=1000)"
   ]
  },
  {
   "cell_type": "code",
   "execution_count": 212,
   "metadata": {},
   "outputs": [],
   "source": [
    "ZINDEX = 10\n",
    "MAGINDEX = 1\n",
    "STRETCHINDEX = 2\n",
    "COLORINDEX = 3\n",
    "minner = Minimizer(lmfitccVM, lmp)\n",
    "resultz10m1spabs0025 = minner.emcee(steps = 1500, nwalkers=100, burn=1000)"
   ]
  },
  {
   "cell_type": "code",
   "execution_count": 215,
   "metadata": {},
   "outputs": [],
   "source": [
    "ZINDEX = 10\n",
    "MAGINDEX = 11\n",
    "STRETCHINDEX = 12\n",
    "COLORINDEX = 13\n",
    "minner = Minimizer(lmfitccVM, lmp)\n",
    "resultz10m11spabs0025 = minner.emcee(steps = 1500, nwalkers=100, burn=1000)"
   ]
  },
  {
   "cell_type": "code",
   "execution_count": 218,
   "metadata": {},
   "outputs": [
    {
     "data": {
      "text/plain": [
       "(0, 4400)"
      ]
     },
     "execution_count": 218,
     "metadata": {},
     "output_type": "execute_result"
    },
    {
     "data": {
      "image/png": "[encoded data removed]",
      "text/plain": [
       "<Figure size 720x480 with 1 Axes>"
      ]
     },
     "metadata": {
      "needs_background": "light"
     },
     "output_type": "display_data"
    }
   ],
   "source": [
    "bn = np.linspace(65., 85., 301)\n",
    "\n",
    "k = plt.hist(resultz9m1spabs0025.flatchain['h']*100., bins=bn, color='red', alpha=0.3, label = r'$\\rm{ z_{JLA},\\  M_{JLA} }$')\n",
    "plt.hist(resultz10m1spabs0025.flatchain['h']*100., bins=k[1], color='blue', alpha=0.3, label = r'$\\rm{ z_{Pantheon},\\  M_{JLA} }$')\n",
    "plt.hist(resultz10m11spabs0025.flatchain['h']*100., bins=k[1], color='green', alpha=0.3, label = r'$\\rm{ z_{Pantheon},\\ M_{Pantheon} }$')\n",
    "plt.xlabel(r'$ {\\rm H_0 }\\ [{\\rm km\\ s}^{-1} {\\rm Mpc}^{-1}]$', fontsize=20)\n",
    "plt.legend(loc='best', fontsize=14, ncol=3)\n",
    "plt.title(r'$\\rm{ |z_{diff}| > 0.0025 }$', fontsize=20)\n",
    "plt.ylim(0, 4400)\n"
   ]
  },
  {
   "cell_type": "code",
   "execution_count": null,
   "metadata": {},
   "outputs": [],
   "source": []
  }
 ],
 "metadata": {
  "kernelspec": {
   "display_name": "Python 3",
   "language": "python",
   "name": "python3"
  },
  "language_info": {
   "codemirror_mode": {
    "name": "ipython",
    "version": 3
   },
   "file_extension": ".py",
   "mimetype": "text/x-python",
   "name": "python",
   "nbconvert_exporter": "python",
   "pygments_lexer": "ipython3",
   "version": "3.5.7"
  }
 },
 "nbformat": 4,
 "nbformat_minor": 2
}
